{
 "cells": [
  {
   "cell_type": "markdown",
   "metadata": {},
   "source": [
    "# Códigos Cíclicos\n",
    "\n",
    "### Ing. Pablo De Césare"
   ]
  },
  {
   "cell_type": "code",
   "execution_count": 1,
   "metadata": {},
   "outputs": [],
   "source": [
    "import numpy as np\n",
    "import CyclicCode as cc"
   ]
  },
  {
   "cell_type": "markdown",
   "metadata": {},
   "source": [
    "- Son un subtipo de códigos lineales\n",
    "- A todas las propiedades de linealidad, le agregan la del dezplazamiento cíclico\n",
    "- Son altamente estructurados, faciles y eficientes de codificar\n",
    "- Se representan a través de polinomios (la linealidad es heredada del álgebra de polinomios)\n",
    "\n",
    "$$ V(x)=v_0.x^0+v_1.x^1+v_2.x^2 $$\n",
    "\n",
    "### Dezplazamiento en j posiciones\n",
    "\n",
    "Queremos lograr una estructura para el dezplazamiento en j posiciones de este tipo:\n",
    "\n",
    "$$ V(x)=v_{n-j}.x^0+v_{n-j+1}.x^1+v_{n-j+2}.x^2+....+v_0.x^j+v_1.x^{j+1}+v_2.x^{j+2}....+..v_{n-j-1}.x^{n-1} $$\n",
    "\n",
    "Para lograrlo, probamos con multiplicar por $$ x^j $$\n",
    "\n",
    "de esta manera\n",
    "\n",
    "$$ x^j.v(x)=v_0.x^j+v_1.x^{j+1}+...+v_{n-j-1}.x^{n-1}+v_{n-j}.x^n+...+v_{n-1}.x^{n+j-1} $$\n",
    "\n",
    "se puede demostrar que se obtiene la rotacion si\n",
    "\n",
    "$$ v^j(x) = resto .\\frac{x^j.v(x)}{1+x^n} = x^j.v(x) mod (1+x^n) $$"
   ]
  },
  {
   "cell_type": "markdown",
   "metadata": {},
   "source": [
    "## Ej sklar 6.7\n",
    "Desplazar 3 lugares el codigo 1101\n",
    "\n",
    "Solucion\n",
    "\n",
    "La representacion polinomica de la palabra 1101 es:\n",
    "$$ v(x)= 1+x+x^3 $$\n",
    "n=4\n",
    "\n",
    "$$ x^3 . (1+x+x^3) mod (x^4+1) $$\n",
    "$$ (x^3+x^4+x^6) mod (x^4+1) $$\n"
   ]
  },
  {
   "cell_type": "code",
   "execution_count": 2,
   "metadata": {},
   "outputs": [
    {
     "data": {
      "text/plain": [
       "array([1, 0, 1, 1])"
      ]
     },
     "execution_count": 2,
     "metadata": {},
     "output_type": "execute_result"
    }
   ],
   "source": [
    "v=np.array([1,1,0,1]) \n",
    "cc.shift(v,3)"
   ]
  },
  {
   "cell_type": "markdown",
   "metadata": {},
   "source": [
    "## Teorema\n",
    "\n",
    "v(x) es una palabra de codigo si y solo si v es multiplo del g(x) (el polinomio generador!!)\n",
    "\n",
    "g(x) es un factor de $$ 1+x^n $$\n",
    "\n",
    "\n",
    "para las palabras de codigo de grado n g(x) va a tener grado $$n-k$$ (la redundancia!!)\n",
    "\n",
    "## Codigo Ciclico\n",
    "\n",
    "Polinomio generador $$ g(x) = 1 + x^2 + x^3 + x^4 $$"
   ]
  },
  {
   "cell_type": "code",
   "execution_count": 3,
   "metadata": {},
   "outputs": [],
   "source": [
    "g = np.array([1,0,1,1,1]) # polinomio generador\n",
    "\n",
    "miCod=cc.CyclicCode(g, 7)"
   ]
  },
  {
   "cell_type": "markdown",
   "metadata": {},
   "source": [
    "# Codificación sistematica\n",
    "\n",
    "Queremos arealizar una codificacion sistematica, es decir, que la palabra de codigo este formada por una parte del mensaje sin modificar y otra parte por la paridad.\n",
    "\n",
    "$$ v(x)=x^{n-k}.u(x)+p(x) $$\n",
    "\n",
    "Donde el termino $ x^{n-k}.u(x)$ representa a la palabra de codigo u(x) con n-k ceros atras y p(x) la paridad del mensaje.\n",
    "\n",
    "Como $ v(x)=x^{n-k}.u(x)+p(x) $ es una palabra de codigo, entonces es un multiplo de g(x)\n",
    "\n",
    "$$ v(x)=x^{n-k}.u(x)+p(x) = c(x).g(x) -> x^{n-k}.u(x) = c(x).g(x)+p(x) $$\n",
    "\n",
    "tenemos el algoritmo de la division\n",
    "\n",
    "$$ p(x) = resto{\\frac{x^{n-k}.u(x)}{g(x)}} $$\n",
    "\n",
    "Entonces codificamos como\n",
    "\n",
    "$$ v(x)= x^{n-k}.u(x) + resto{\\frac{x^{n-k}.u(x)}{g(x)}} $$"
   ]
  },
  {
   "cell_type": "markdown",
   "metadata": {},
   "source": [
    "## Ej 1\n",
    "codificar de forma sistematica el mensaje m=[1,0,1,1], con polinomio generador  g(x)=1+x+x^3\n"
   ]
  },
  {
   "cell_type": "code",
   "execution_count": 4,
   "metadata": {},
   "outputs": [
    {
     "name": "stdout",
     "output_type": "stream",
     "text": [
      "la palabra de codigo es  [1 0 0 1 0 1 1]\n"
     ]
    }
   ],
   "source": [
    "g = np.array([1,1,0,1]) # polinomio generador 1+x+x^3\n",
    "m=np.array([1,0,1,1])\n",
    "miCod=cc.CyclicCode(g, 7)\n",
    "\n",
    "codeword=miCod.c(m)\n",
    "\n",
    "print(\"la palabra de codigo es \",codeword)"
   ]
  },
  {
   "cell_type": "markdown",
   "metadata": {},
   "source": [
    "Esta codificacion sistematica puede hacerse de maner muy eficiente con un circuito formado por registros de desplazamientos realimentados.\n",
    "\n",
    "<img src='1.jpg' width=\"400\" height=\"400\">"
   ]
  },
  {
   "cell_type": "markdown",
   "metadata": {},
   "source": [
    "## Decodificacion de la palabra de codigo y calculo de sindrome\n",
    "\n",
    "El receptor recibe una palabra de código que pudo haber sido alterada por acción del canal de comunicación. Como toda palabra de código válida es múltiplo del polinomio generador g(x), el chequeo de error consta en verificar que el resto de la división.\n",
    "\n",
    "Si el resto es cero, la palabra es válida y si da un valor distinto de cero, hubo un error en la cadena de transmisión.\n",
    "\n"
   ]
  },
  {
   "cell_type": "code",
   "execution_count": 5,
   "metadata": {},
   "outputs": [
    {
     "name": "stdout",
     "output_type": "stream",
     "text": [
      "el sindrome calculado  [0 0 0 0]\n"
     ]
    }
   ],
   "source": [
    "syndrome=miCod.S(codeword)\n",
    "print(\"el sindrome calculado \", syndrome)"
   ]
  },
  {
   "cell_type": "markdown",
   "metadata": {},
   "source": [
    "El chequeo de paridad, que también se implementa como una división, se hace de manera eficiente con registros de dezplazamiento.\n",
    "\n",
    "<img src='2.jpg' width=\"400\" height=\"400\">\n",
    "\n",
    "La mayoría de los códigos cíclicos se usan para chequeo de error y pedido de re-transmisión.\n",
    "Pero como los códigos cíclicos, son también lineales, puede hallarse una matriz generadora G(x).\n",
    "\n",
    "Se obtiene de codificar los elementos los mensajes que contienen solo un 1\n",
    "para el ejemplo de C(7,4)\n",
    "[0,0,0,1]\n",
    "[0,0,1,0]\n",
    "[0,1,0,0]\n",
    "[1,0,0,0]\n"
   ]
  },
  {
   "cell_type": "code",
   "execution_count": 6,
   "metadata": {},
   "outputs": [
    {
     "name": "stdout",
     "output_type": "stream",
     "text": [
      "la matriz generadora es \n",
      "\n",
      "[1 1 0 1 0 0 0]\n",
      "[0 1 1 0 1 0 0]\n",
      "[1 1 1 0 0 1 0]\n",
      "[1 0 1 0 0 0 1]\n",
      "\n",
      " G(x)\n",
      "[[1 1 0 1 0 0 0]\n",
      " [0 1 1 0 1 0 0]\n",
      " [1 1 1 0 0 1 0]\n",
      " [1 0 1 0 0 0 1]]\n",
      "\n",
      " H(x)\n",
      "[[1 0 0 1 0 1 1]\n",
      " [0 1 0 1 1 1 0]\n",
      " [0 0 1 0 1 1 1]]\n"
     ]
    }
   ],
   "source": [
    "m4=np.array([0,0,0,1])\n",
    "m3=np.array([0,0,1,0])\n",
    "m2=np.array([0,1,0,0])\n",
    "m1=np.array([1,0,0,0])\n",
    "\n",
    "print(\"la matriz generadora es \\n\")\n",
    "print(miCod.c(m1))\n",
    "print(miCod.c(m2))\n",
    "print(miCod.c(m3))\n",
    "print(miCod.c(m4))\n",
    "\n",
    "print(\"\\n G(x)\")\n",
    "print(miCod.G())\n",
    "\n",
    "print(\"\\n H(x)\")\n",
    "print(miCod.H())"
   ]
  },
  {
   "cell_type": "code",
   "execution_count": 7,
   "metadata": {},
   "outputs": [
    {
     "name": "stdout",
     "output_type": "stream",
     "text": [
      "-> Linear Block Code Cb( 7 , 4 )\n",
      "-> Message length (k):              4\n",
      "-> Codeword length (n):             7\n",
      "-> Coding rate (R = k/n):           0.5714285714285714\n",
      "-> Minimum Distance (dmin):         3\n",
      "-> Error Detection Capability:      2\n",
      "-> Error Correction Capability (t): 1\n",
      "-> Weight Distribution (A):         [0 0 7 7 0 0 1]\n",
      "-> Generator Matrix (G):\n",
      "\n",
      "[[1 1 0 1 0 0 0]\n",
      " [0 1 1 0 1 0 0]\n",
      " [1 1 1 0 0 1 0]\n",
      " [1 0 1 0 0 0 1]]\n",
      "\n",
      "-> Parity Check Matrix (H):\n",
      "\n",
      "[[1 0 0 1 0 1 1]\n",
      " [0 1 0 1 1 1 0]\n",
      " [0 0 1 0 1 1 1]]\n",
      "\n",
      "-> Message Codeword Table:\n",
      "\n",
      "Messages -> Codewords\n",
      "[0 0 0 0] [0 0 0 0 0 0 0] m(X) = 0 \tc(X) = 0\n",
      "[1 0 0 0] [1 1 0 1 0 0 0] m(X) = 1 \tc(X) = 1 + X + X^3\n",
      "[0 1 0 0] [0 1 1 0 1 0 0] m(X) = X \tc(X) = X + X^2 + X^4\n",
      "[1 1 0 0] [1 0 1 1 1 0 0] m(X) = 1 + X \tc(X) = 1 + X^2 + X^3 + X^4\n",
      "[0 0 1 0] [1 1 1 0 0 1 0] m(X) = X^2 \tc(X) = 1 + X + X^2 + X^5\n",
      "[1 0 1 0] [0 0 1 1 0 1 0] m(X) = 1 + X^2 \tc(X) = X^2 + X^3 + X^5\n",
      "[0 1 1 0] [1 0 0 0 1 1 0] m(X) = X + X^2 \tc(X) = 1 + X^4 + X^5\n",
      "[1 1 1 0] [0 1 0 1 1 1 0] m(X) = 1 + X + X^2 \tc(X) = X + X^3 + X^4 + X^5\n",
      "[0 0 0 1] [1 0 1 0 0 0 1] m(X) = X^3 \tc(X) = 1 + X^2 + X^6\n",
      "[1 0 0 1] [0 1 1 1 0 0 1] m(X) = 1 + X^3 \tc(X) = X + X^2 + X^3 + X^6\n",
      "[0 1 0 1] [1 1 0 0 1 0 1] m(X) = X + X^3 \tc(X) = 1 + X + X^4 + X^6\n",
      "[1 1 0 1] [0 0 0 1 1 0 1] m(X) = 1 + X + X^3 \tc(X) = X^3 + X^4 + X^6\n",
      "[0 0 1 1] [0 1 0 0 0 1 1] m(X) = X^2 + X^3 \tc(X) = X + X^5 + X^6\n",
      "[1 0 1 1] [1 0 0 1 0 1 1] m(X) = 1 + X^2 + X^3 \tc(X) = 1 + X^3 + X^5 + X^6\n",
      "[0 1 1 1] [0 0 1 0 1 1 1] m(X) = X + X^2 + X^3 \tc(X) = X^2 + X^4 + X^5 + X^6\n",
      "[1 1 1 1] [1 1 1 1 1 1 1] m(X) = 1 + X + X^2 + X^3 \tc(X) = 1 + X + X^2 + X^3 + X^4 + X^5 + X^6\n",
      "\n",
      "-> Parity Check Equations:\n",
      "\n",
      "c0 = m0 ⊕ m2 ⊕ m3\n",
      "c1 = m0 ⊕ m1 ⊕ m2\n",
      "c2 = m1 ⊕ m2 ⊕ m3\n",
      "c3 = m0\n",
      "c4 = m1\n",
      "c5 = m2\n",
      "c6 = m3\n",
      "\n",
      "-> Syndrome Vector Equations:\n",
      "\n",
      "s0 = r0 ⊕ r3 ⊕ r5 ⊕ r6\n",
      "s1 = r1 ⊕ r3 ⊕ r4 ⊕ r5\n",
      "s2 = r2 ⊕ r4 ⊕ r5 ⊕ r6\n",
      "\n",
      "-> Standard Array:\n",
      "\n",
      "0000000 | 1101000 0110100 1011100 1110010 0011010 1000110 0101110 1010001 0111001 1100101 0001101 0100011 1001011 0010111 1111111 \n",
      "---------------------------------------------------------------------------------------------------------------------------------\n",
      "1000000 | 0101000 1110100 0011100 0110010 1011010 0000110 1101110 0010001 1111001 0100101 1001101 1100011 0001011 1010111 0111111 \n",
      "0100000 | 1001000 0010100 1111100 1010010 0111010 1100110 0001110 1110001 0011001 1000101 0101101 0000011 1101011 0110111 1011111 \n",
      "0010000 | 1111000 0100100 1001100 1100010 0001010 1010110 0111110 1000001 0101001 1110101 0011101 0110011 1011011 0000111 1101111 \n",
      "0001000 | 1100000 0111100 1010100 1111010 0010010 1001110 0100110 1011001 0110001 1101101 0000101 0101011 1000011 0011111 1110111 \n",
      "0000100 | 1101100 0110000 1011000 1110110 0011110 1000010 0101010 1010101 0111101 1100001 0001001 0100111 1001111 0010011 1111011 \n",
      "0000010 | 1101010 0110110 1011110 1110000 0011000 1000100 0101100 1010011 0111011 1100111 0001111 0100001 1001001 0010101 1111101 \n",
      "0000001 | 1101001 0110101 1011101 1110011 0011011 1000111 0101111 1010000 0111000 1100100 0001100 0100010 1001010 0010110 1111110 \n",
      "\n",
      "-> Decoding Table:\n",
      "\n",
      "Correctable Error Patterns -> Syndromes\n",
      "[0 0 0 0 0 0 0] [0 0 0]\n",
      "[1 0 0 0 0 0 0] [1 0 0]\n",
      "[0 1 0 0 0 0 0] [0 1 0]\n",
      "[0 0 1 0 0 0 0] [0 0 1]\n",
      "[0 0 0 1 0 0 0] [1 1 0]\n",
      "[0 0 0 0 1 0 0] [0 1 1]\n",
      "[0 0 0 0 0 1 0] [1 1 1]\n",
      "[0 0 0 0 0 0 1] [1 0 1]\n"
     ]
    }
   ],
   "source": [
    "## resumiendo ###\n",
    "\n",
    "miCod.printInfo()\n"
   ]
  },
  {
   "cell_type": "code",
   "execution_count": null,
   "metadata": {},
   "outputs": [],
   "source": []
  }
 ],
 "metadata": {
  "kernelspec": {
   "display_name": "Python 3",
   "language": "python",
   "name": "python3"
  },
  "language_info": {
   "codemirror_mode": {
    "name": "ipython",
    "version": 3
   },
   "file_extension": ".py",
   "mimetype": "text/x-python",
   "name": "python",
   "nbconvert_exporter": "python",
   "pygments_lexer": "ipython3",
   "version": "3.7.0"
  }
 },
 "nbformat": 4,
 "nbformat_minor": 2
}
