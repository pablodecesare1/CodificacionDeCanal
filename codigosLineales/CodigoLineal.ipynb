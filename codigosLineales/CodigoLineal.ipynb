{
 "cells": [
  {
   "cell_type": "markdown",
   "metadata": {},
   "source": [
    "# Simulación de códigos lineales\n",
    "\n",
    "### Ing. Pablo De Césare"
   ]
  },
  {
   "cell_type": "code",
   "execution_count": 1,
   "metadata": {},
   "outputs": [],
   "source": [
    "import numpy as np\n",
    "import LinearBlockCode as lc"
   ]
  },
  {
   "cell_type": "code",
   "execution_count": 2,
   "metadata": {},
   "outputs": [],
   "source": [
    "miCod=lc.LinearBlockCode()"
   ]
  },
  {
   "cell_type": "markdown",
   "metadata": {},
   "source": [
    "# Códigos lineales\n",
    "\n",
    "Realizan una clase de control de paridad y pueden ser caracterizados por dos parámetros  n,k\n",
    "\n",
    "- n -> numero de bits codificados\n",
    "- k -> numero de bits del mesaje                   Con n>k\n",
    "\n",
    "El mensaje de k-bits  -> 2^k vectores\n",
    "\n",
    "El código de n-bits  -> 2^n vectores\n",
    "\n",
    "El conjunto de 2n vectores  (tuplas) constituye un espacio vectorial sobre un campo binario de elementos 0 y 1.\n",
    "\n",
    "Cada uno de los 2k códigos pueden ser descriptos por\n",
    "\n",
    "#### U=m1.V1+m2.V2+m3.V3\n",
    "\n",
    "m1,m2 y m3 terminan siendo las coordenadas la base Vn\n",
    "\n",
    "Vn generaran las palabras de código a ser transmitidas \n",
    "\n",
    "### Codigo lineal (6,3)\n",
    "\n",
    "En general hay una matriz G, generadora de dimensiones  (kxn)\n",
    "\n",
    "ej:\n",
    "<img src='1.jpeg' width=\"400\" height=\"400\">\n"
   ]
  },
  {
   "cell_type": "code",
   "execution_count": 3,
   "metadata": {},
   "outputs": [
    {
     "data": {
      "text/plain": [
       "matrix([[1, 1, 0, 1, 0, 0],\n",
       "        [0, 1, 1, 0, 1, 0],\n",
       "        [1, 0, 1, 0, 0, 1]])"
      ]
     },
     "execution_count": 3,
     "metadata": {},
     "output_type": "execute_result"
    }
   ],
   "source": [
    "g=[[1, 1, 0, 1, 0, 0], [0, 1, 1, 0, 1, 0], [1, 0, 1, 0, 0, 1]]\n",
    "G=np.matrix(g)\n",
    "\n",
    "miCod.setG(G)\n",
    "miCod.G()"
   ]
  },
  {
   "cell_type": "code",
   "execution_count": 4,
   "metadata": {},
   "outputs": [
    {
     "name": "stdout",
     "output_type": "stream",
     "text": [
      "longitud de palabra de codigo =  6\n",
      "longitud de la redundancia =  3\n",
      "longitud del mensaje =  3\n"
     ]
    }
   ],
   "source": [
    "print(\"longitud de palabra de codigo = \",miCod.n())\n",
    "print(\"longitud de la redundancia = \",miCod.k())\n",
    "print(\"longitud del mensaje = \",miCod.n()-miCod.k())"
   ]
  },
  {
   "cell_type": "markdown",
   "metadata": {},
   "source": [
    "## Codificar una palabra de código\n",
    "<img src='2.jpeg' width=\"400\" height=\"400\">"
   ]
  },
  {
   "cell_type": "code",
   "execution_count": 5,
   "metadata": {},
   "outputs": [
    {
     "name": "stdout",
     "output_type": "stream",
     "text": [
      "la palabra de codigo generada es = [[1 0 1 1 1 0]]\n"
     ]
    }
   ],
   "source": [
    "msj=np.matrix([1,1,0])\n",
    "codeword=miCod.c(msj)\n",
    "\n",
    "print(\"la palabra de codigo generada es =\",codeword)\n"
   ]
  },
  {
   "cell_type": "markdown",
   "metadata": {},
   "source": [
    "## Codificacion sistematica\n",
    "<img src='3.jpeg' width=\"400\" height=\"400\">"
   ]
  },
  {
   "cell_type": "code",
   "execution_count": 6,
   "metadata": {},
   "outputs": [
    {
     "name": "stdout",
     "output_type": "stream",
     "text": [
      "Matriz G \n",
      "\n",
      " [[1 1 0 1 0 0]\n",
      " [0 1 1 0 1 0]\n",
      " [1 0 1 0 0 1]]\n",
      "\n",
      "\n",
      "Matriz P \n",
      "\n",
      " [[1 1 0]\n",
      " [0 1 1]\n",
      " [1 0 1]]\n"
     ]
    }
   ],
   "source": [
    "print(\"Matriz G \\n\\n\",miCod.G())\n",
    "print(\"\\n\")\n",
    "print(\"Matriz P \\n\\n\",miCod.P())"
   ]
  },
  {
   "cell_type": "code",
   "execution_count": 7,
   "metadata": {},
   "outputs": [
    {
     "name": "stdout",
     "output_type": "stream",
     "text": [
      "Messages -> Codewords (c = m ◦ G)\n",
      "[0 0 0] [[0 0 0 0 0 0]]\n",
      "[1 0 0] [[1 1 0 1 0 0]]\n",
      "[0 1 0] [[0 1 1 0 1 0]]\n",
      "[1 1 0] [[1 0 1 1 1 0]]\n",
      "[0 0 1] [[1 0 1 0 0 1]]\n",
      "[1 0 1] [[0 1 1 1 0 1]]\n",
      "[0 1 1] [[1 1 0 0 1 1]]\n",
      "[1 1 1] [[0 0 0 1 1 1]]\n"
     ]
    }
   ],
   "source": [
    "miCod.printMessageCodewordTable()"
   ]
  },
  {
   "cell_type": "markdown",
   "metadata": {},
   "source": [
    "# Matriz de chequeo de paridad\n",
    "\n",
    "Llamemos H a la matriz de chequeo de paridad que nos permitirá decodificar los vectores recibidos.\n",
    "\n",
    "Para cada matriz G de dimensión (k x n) existe una matriz H de dimensión (n-k)x n y las filas de G son ortogonales a las filas de H tal que \n",
    "\n",
    "    G . H^T=0\n",
    "\n",
    "Para satisfacer esa condición H tal que H=[I | P.T]"
   ]
  },
  {
   "cell_type": "code",
   "execution_count": 8,
   "metadata": {},
   "outputs": [
    {
     "data": {
      "text/plain": [
       "matrix([[1, 0, 0, 1, 0, 1],\n",
       "        [0, 1, 0, 1, 1, 0],\n",
       "        [0, 0, 1, 0, 1, 1]])"
      ]
     },
     "execution_count": 8,
     "metadata": {},
     "output_type": "execute_result"
    }
   ],
   "source": [
    "miCod.H()"
   ]
  },
  {
   "cell_type": "markdown",
   "metadata": {},
   "source": [
    "Se verifica que cada código generado “U=m.G” cuando se multiplica por U.H^T=0  "
   ]
  },
  {
   "cell_type": "markdown",
   "metadata": {},
   "source": [
    "## Chequeo del Sindrome\n",
    "\n",
    "Del lado del receptor, recibimos una palabra de codigo + un cierto patron de error que corropio el mensaje original, tal que \n",
    "\n",
    "r=U+e\n",
    "\n",
    "Se define \"Sindrome\" S a \n",
    "\n",
    "S = r . H^T\n",
    "\n",
    "Si S=0 r es un código valido, por el contrario si S ≠0 está corrupto  \n"
   ]
  },
  {
   "cell_type": "code",
   "execution_count": 9,
   "metadata": {},
   "outputs": [],
   "source": [
    "e1=np.matrix([1,0,0,0,0,0]) # error\n",
    "e2=np.matrix([0,0,0,0,0,0]) # sin error\n",
    "r1=codeword+e1\n",
    "r2=codeword+e2\n"
   ]
  },
  {
   "cell_type": "code",
   "execution_count": 10,
   "metadata": {},
   "outputs": [
    {
     "name": "stdout",
     "output_type": "stream",
     "text": [
      "sindrome 1 = [[1 0 0]]\n",
      "sindrome 2 = [[0 0 0]]\n"
     ]
    }
   ],
   "source": [
    "s1=miCod.s(r1)\n",
    "print(\"sindrome 1 =\",s1)\n",
    "s2=miCod.s(r2)\n",
    "print(\"sindrome 2 =\",s2)"
   ]
  },
  {
   "cell_type": "code",
   "execution_count": 11,
   "metadata": {},
   "outputs": [
    {
     "name": "stdout",
     "output_type": "stream",
     "text": [
      "\n",
      "s0 = r0 ⊕ r3 ⊕ r5\n",
      "s1 = r1 ⊕ r3 ⊕ r4\n",
      "s2 = r2 ⊕ r4 ⊕ r5\n"
     ]
    }
   ],
   "source": [
    "miCod.printSyndromeVectorEquations()\n"
   ]
  },
  {
   "cell_type": "code",
   "execution_count": 12,
   "metadata": {},
   "outputs": [
    {
     "data": {
      "text/plain": [
       "array([[0, 0, 0, 0, 0, 0],\n",
       "       [1, 0, 0, 0, 0, 0],\n",
       "       [0, 1, 0, 0, 0, 0],\n",
       "       [0, 0, 1, 0, 0, 0],\n",
       "       [0, 0, 0, 1, 0, 0],\n",
       "       [0, 0, 0, 0, 1, 0],\n",
       "       [0, 0, 0, 0, 0, 1]])"
      ]
     },
     "execution_count": 12,
     "metadata": {},
     "output_type": "execute_result"
    }
   ],
   "source": [
    "miCod.correctableErrorPatterns()\n"
   ]
  },
  {
   "cell_type": "code",
   "execution_count": 13,
   "metadata": {},
   "outputs": [
    {
     "name": "stdout",
     "output_type": "stream",
     "text": [
      "Correctable Error Patterns -> Syndromes\n",
      "[0 0 0 0 0 0] [[0 0 0]]\n",
      "[1 0 0 0 0 0] [[1 0 0]]\n",
      "[0 1 0 0 0 0] [[0 1 0]]\n",
      "[0 0 1 0 0 0] [[0 0 1]]\n",
      "[0 0 0 1 0 0] [[1 1 0]]\n",
      "[0 0 0 0 1 0] [[0 1 1]]\n",
      "[0 0 0 0 0 1] [[1 0 1]]\n"
     ]
    }
   ],
   "source": [
    "miCod.printDecodingTable()\n",
    "\n"
   ]
  },
  {
   "cell_type": "code",
   "execution_count": 14,
   "metadata": {},
   "outputs": [
    {
     "name": "stdout",
     "output_type": "stream",
     "text": [
      "sindrome =[[1 0 0]]error pathern[[1 0 0 0 0 0]]\n"
     ]
    }
   ],
   "source": [
    "ep=np.matrix([1,0,0,0,0,0])\n",
    "s=miCod.s(ep)\n",
    "print(\"sindrome =\" + str(s)+ \"error pathern\"+str(ep))\n",
    "\n"
   ]
  },
  {
   "cell_type": "markdown",
   "metadata": {},
   "source": [
    "Creamos un diccionario donde cada sindrome es un error pathern "
   ]
  },
  {
   "cell_type": "code",
   "execution_count": 15,
   "metadata": {},
   "outputs": [
    {
     "data": {
      "text/plain": [
       "{'[[0 0 0]]': array([0, 0, 0, 0, 0, 0]),\n",
       " '[[1 0 0]]': array([1, 0, 0, 0, 0, 0]),\n",
       " '[[0 1 0]]': array([0, 1, 0, 0, 0, 0]),\n",
       " '[[0 0 1]]': array([0, 0, 1, 0, 0, 0]),\n",
       " '[[1 1 0]]': array([0, 0, 0, 1, 0, 0]),\n",
       " '[[0 1 1]]': array([0, 0, 0, 0, 1, 0]),\n",
       " '[[1 0 1]]': array([0, 0, 0, 0, 0, 1])}"
      ]
     },
     "execution_count": 15,
     "metadata": {},
     "output_type": "execute_result"
    }
   ],
   "source": [
    "miCod.decodingTable()"
   ]
  },
  {
   "cell_type": "code",
   "execution_count": 16,
   "metadata": {},
   "outputs": [
    {
     "name": "stdout",
     "output_type": "stream",
     "text": [
      "decodificado r1 =  [[1 0 1 1 1 0]]\n",
      "decodificado r2 =  [[1 0 1 1 1 0]]\n",
      "palabra de codigo original =  [[1 0 1 1 1 0]]\n"
     ]
    }
   ],
   "source": [
    "print(\"decodificado r1 = \",miCod.syndromeDecode(r1))\n",
    "print(\"decodificado r2 = \",miCod.syndromeDecode(r2))\n",
    "print(\"palabra de codigo original = \",codeword)"
   ]
  },
  {
   "cell_type": "markdown",
   "metadata": {},
   "source": [
    "# Capacidad de detección y corrección de errores\n",
    "\n",
    "- Se define w (peso de Hamming) al numero de elementos distintos de 0 de una palabra de código\n",
    "- Se define d  (distancia de Hamming) al número de bits diferentes entre código y código\n",
    "\n",
    "por las propiedades de la suma en modulo 2 y la linealidad del codigo, la suma de 2 palabras de código representa otra palabra de codigo.\n",
    "\n",
    "La distancia de Hamming entre 2 palabras es igual al peso de la suma\n",
    "\n",
    "#### d(U,V) = w(U+W)\n",
    "\n",
    "Para hallarla no es necesario cualcular el peso de cada suma de palabras de codigo, solo el peso de cada palabra individual excluyendo al elemento cero\n",
    "De forma equivalente, la dmin corresponde a la palabra con minima distancia a la palabra de codigo \"cero\" "
   ]
  },
  {
   "cell_type": "code",
   "execution_count": 17,
   "metadata": {},
   "outputs": [
    {
     "name": "stdout",
     "output_type": "stream",
     "text": [
      "Empezamos con dmin = n\n",
      "dmin =  6\n",
      "Iteracion a traves de la tabla de palabras de codigo y comparacion de los pesos de cada vector\n",
      "Vector  [[0 0 0 0 0 0]]  tiene un peso de  0\n",
      "El peso de  [[1 1 0 1 0 0]]  es  3  <  6  actualizamos dmin, dmin =  3\n",
      "Vector  [[0 1 1 0 1 0]]  tiene un peso de  3\n",
      "Vector  [[1 0 1 1 1 0]]  tiene un peso de  4\n",
      "Vector  [[1 0 1 0 0 1]]  tiene un peso de  3\n",
      "Vector  [[0 1 1 1 0 1]]  tiene un peso de  4\n",
      "Vector  [[1 1 0 0 1 1]]  tiene un peso de  4\n",
      "Vector  [[0 0 0 1 1 1]]  tiene un peso de  3\n"
     ]
    }
   ],
   "source": [
    "miCod.dminVerbose()"
   ]
  },
  {
   "cell_type": "markdown",
   "metadata": {},
   "source": [
    "La capacidad de deteccion de errores es igual a dmin-1\n",
    "\n",
    "La capacidad de correccion t es igual\n",
    "\n",
    "t= (dmin - 1)/2"
   ]
  },
  {
   "cell_type": "code",
   "execution_count": 18,
   "metadata": {},
   "outputs": [
    {
     "data": {
      "text/plain": [
       "2"
      ]
     },
     "execution_count": 18,
     "metadata": {},
     "output_type": "execute_result"
    }
   ],
   "source": [
    "miCod.errorDetectionCapability()"
   ]
  },
  {
   "cell_type": "code",
   "execution_count": 19,
   "metadata": {},
   "outputs": [
    {
     "name": "stdout",
     "output_type": "stream",
     "text": [
      "-> Linear Block Code Cb( 6 , 3 )\n",
      "-> Message length (k):              3\n",
      "-> Codeword length (n):             6\n",
      "-> Coding rate (R = k/n):           0.5\n",
      "-> Minimum Distance (dmin):         3\n",
      "-> Error Detection Capability:      2\n",
      "-> Error Correction Capability (t): 1\n",
      "-> Weight Distribution (A):         [0 0 4 3 0 0]\n",
      "-> Generator Matrix (G):\n",
      "\n",
      "[[1 1 0 1 0 0]\n",
      " [0 1 1 0 1 0]\n",
      " [1 0 1 0 0 1]]\n",
      "\n",
      "-> Parity Check Matrix (H):\n",
      "\n",
      "[[1 0 0 1 0 1]\n",
      " [0 1 0 1 1 0]\n",
      " [0 0 1 0 1 1]]\n",
      "\n",
      "-> Message Codeword Table:\n",
      "\n",
      "Messages -> Codewords (c = m ◦ G)\n",
      "[0 0 0] [[0 0 0 0 0 0]]\n",
      "[1 0 0] [[1 1 0 1 0 0]]\n",
      "[0 1 0] [[0 1 1 0 1 0]]\n",
      "[1 1 0] [[1 0 1 1 1 0]]\n",
      "[0 0 1] [[1 0 1 0 0 1]]\n",
      "[1 0 1] [[0 1 1 1 0 1]]\n",
      "[0 1 1] [[1 1 0 0 1 1]]\n",
      "[1 1 1] [[0 0 0 1 1 1]]\n",
      "\n",
      "-> Parity Check Equations:\n",
      "\n",
      "c0 = m0 ⊕ m2\n",
      "c1 = m0 ⊕ m1\n",
      "c2 = m1 ⊕ m2\n",
      "c3 = m0\n",
      "c4 = m1\n",
      "c5 = m2\n",
      "\n",
      "-> Syndrome Vector Equations:\n",
      "\n",
      "s0 = r0 ⊕ r3 ⊕ r5\n",
      "s1 = r1 ⊕ r3 ⊕ r4\n",
      "s2 = r2 ⊕ r4 ⊕ r5\n",
      "\n",
      "-> Standard Array:\n",
      "\n",
      "[[0 0 0 0 0 0]] | [[1 1 0 1 0 0]] [[0 1 1 0 1 0]] [[1 0 1 1 1 0]] [[1 0 1 0 0 1]] [[0 1 1 1 0 1]] [[1 1 0 0 1 1]] [[0 0 0 1 1 1]] \n",
      "---------------------------------------------------------\n",
      "[[1 0 0 0 0 0]] | [[0 1 0 1 0 0]] [[1 1 1 0 1 0]] [[0 0 1 1 1 0]] [[0 0 1 0 0 1]] [[1 1 1 1 0 1]] [[0 1 0 0 1 1]] [[1 0 0 1 1 1]] \n",
      "[[0 1 0 0 0 0]] | [[1 0 0 1 0 0]] [[0 0 1 0 1 0]] [[1 1 1 1 1 0]] [[1 1 1 0 0 1]] [[0 0 1 1 0 1]] [[1 0 0 0 1 1]] [[0 1 0 1 1 1]] \n",
      "[[0 0 1 0 0 0]] | [[1 1 1 1 0 0]] [[0 1 0 0 1 0]] [[1 0 0 1 1 0]] [[1 0 0 0 0 1]] [[0 1 0 1 0 1]] [[1 1 1 0 1 1]] [[0 0 1 1 1 1]] \n",
      "[[0 0 0 1 0 0]] | [[1 1 0 0 0 0]] [[0 1 1 1 1 0]] [[1 0 1 0 1 0]] [[1 0 1 1 0 1]] [[0 1 1 0 0 1]] [[1 1 0 1 1 1]] [[0 0 0 0 1 1]] \n",
      "[[0 0 0 0 1 0]] | [[1 1 0 1 1 0]] [[0 1 1 0 0 0]] [[1 0 1 1 0 0]] [[1 0 1 0 1 1]] [[0 1 1 1 1 1]] [[1 1 0 0 0 1]] [[0 0 0 1 0 1]] \n",
      "[[0 0 0 0 0 1]] | [[1 1 0 1 0 1]] [[0 1 1 0 1 1]] [[1 0 1 1 1 1]] [[1 0 1 0 0 0]] [[0 1 1 1 0 0]] [[1 1 0 0 1 0]] [[0 0 0 1 1 0]] \n",
      "\n",
      "-> Decoding Table:\n",
      "\n",
      "Correctable Error Patterns -> Syndromes\n",
      "[0 0 0 0 0 0] [[0 0 0]]\n",
      "[1 0 0 0 0 0] [[1 0 0]]\n",
      "[0 1 0 0 0 0] [[0 1 0]]\n",
      "[0 0 1 0 0 0] [[0 0 1]]\n",
      "[0 0 0 1 0 0] [[1 1 0]]\n",
      "[0 0 0 0 1 0] [[0 1 1]]\n",
      "[0 0 0 0 0 1] [[1 0 1]]\n"
     ]
    }
   ],
   "source": [
    "miCod.printInfo()"
   ]
  },
  {
   "cell_type": "code",
   "execution_count": null,
   "metadata": {},
   "outputs": [],
   "source": []
  }
 ],
 "metadata": {
  "kernelspec": {
   "display_name": "Python 3",
   "language": "python",
   "name": "python3"
  },
  "language_info": {
   "codemirror_mode": {
    "name": "ipython",
    "version": 3
   },
   "file_extension": ".py",
   "mimetype": "text/x-python",
   "name": "python",
   "nbconvert_exporter": "python",
   "pygments_lexer": "ipython3",
   "version": "3.7.0"
  }
 },
 "nbformat": 4,
 "nbformat_minor": 2
}
