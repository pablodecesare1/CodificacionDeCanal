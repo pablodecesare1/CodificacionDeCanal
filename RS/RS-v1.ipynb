{
 "cells": [
  {
   "cell_type": "markdown",
   "metadata": {},
   "source": [
    "# Reed-Solomon\n",
    "\n",
    "https://en.wikiversity.org/wiki/Reed%E2%80%93Solomon_codes_for_coders\n",
    "\n",
    "Antes de los códigos Reed-Solomon utilizados para el mensaje, será útil introducir un poco más de matemáticas.\n",
    "\n",
    "Nos gustaría definir la suma, resta, multiplicación y división para bytes y siempre producir bytes como resultado, para evitar cualquier desbordamiento.\n",
    "\n",
    "Ingenuamente, podríamos intentar usar las definiciones normales para estas operaciones y luego modificar por 256 para evitar que los resultados se desborden. Y esto es exactamente lo que estaremos haciendo, y es lo que se llama un campo de Galois 2 ^ 8.\n",
    "\n",
    "## campos de Galois\n",
    "\n",
    "Un campo finito es un conjunto de números, y un campo debe tener seis propiedades que rijan la suma, resta, multiplicación y división: cierre, asociativo, conmutativo, distributivo, de identidad e inverso. \n",
    "\n",
    "En pocas palabras, el uso de un campo nos permite estudiar la relación entre los números de este campo y aplicar el resultado a cualquier otro campo que siga las mismas propiedades. \n",
    "\n",
    "Por ejemplo, el conjunto de reales ℝ es un campo. En otras palabras, los campos matemáticos estudian la estructura de un conjunto de números.\n",
    "\n",
    "Sin embargo, los enteros ℤ no son un campo, ya que no todas las divisiones están definidas (como 5/4), lo que viola la propiedad inversa multiplicativa (x tal que x * 4 = 5 no existe). \n",
    "\n",
    "Una forma sencilla de solucionarlo es hacer módulo usando un número primo, como 257, o cualquier potencia entera positiva de un número primo: de esta manera, tenemos la garantía de que existe x * 4 = 5, ya que simplemente terminaremos.\n",
    "\n",
    "Módulo de 2 es un campo de Galois muy interesante, dado que una cadena de 8 bits puede expresar un total de 256 = 2 ^ 8 valores, decimos que usamos un campo de Galois de 2 ^ 8 o GF (2 ^ 8).\n",
    "\n",
    "Aquí definiremos las operaciones matemáticas habituales que estás acostumbrado a hacer con números enteros, pero adaptadas a GF (2 ^ 8), que básicamente hace operaciones habituales pero módulo 2 ^ 8.\n",
    "\n",
    "Otra forma de considerar el vínculo entre GF (2) y GF (2 ^ 8) es pensar que GF (2 ^ 8) representa un polinomio de 8 coeficientes binarios. \n",
    "\n",
    "Por ejemplo, en GF (2 ^ 8), 170 es equivalente a 10101010 \n",
    "\n",
    "10101010 = 1 * x ^ 7 + 0 * x ^ 6 + 1 * x ^ 5 + 0 * x ^ 4 + 1 * x ^ 3 + 0 * x ^ 2 + 1 * x + 0 \n",
    "\n",
    "10101010 = x ^ 7 + x ^ 5 + x ^ 3 + x.\n",
    "\n",
    "Ambas representaciones son equivalentes, es solo que en el primer caso, 170, la representación es decimal, y en el otro caso es binaria, lo que se puede pensar que representa un polinomio por convención.\n",
    "\n",
    "Esta última es a menudo la representación utilizada en libros académicos y en implementaciones de hardware (debido a puertas lógicas y registros, que funcionan a nivel binario). Para una implementación de software, se puede preferir la representación decimal para un código más claro."
   ]
  },
  {
   "cell_type": "markdown",
   "metadata": {},
   "source": [
    "# Suma y Resta\n",
    "\n",
    "Tanto la suma como la resta se reemplazan con XOR en el campo de Galois base 2. \n",
    "\n",
    "Esto es lógico: la suma módulo 2 es exactamente como un XOR, y la resta módulo 2 es exactamente igual que la suma módulo 2. Esto es posible porque las sumas y restas en este campo de Galois no lleva consigo."
   ]
  },
  {
   "cell_type": "code",
   "execution_count": 1,
   "metadata": {},
   "outputs": [],
   "source": [
    "def gf_add(x, y):\n",
    "    return x ^ y\n",
    "\n",
    "def gf_sub(x, y):\n",
    "    return x ^ y # in binary galois field, subtraction is just the same as addition (since we mod 2)"
   ]
  },
  {
   "cell_type": "markdown",
   "metadata": {},
   "source": [
    "# Multiplicacion\n",
    "\n",
    "La multiplicación también se basa en la multiplicación de polinomios. Escribiendo las entradas como polinomios y multiplicando usando la distributiva como de costumbre. \n",
    "\n",
    "Ejemplo, 10001001 * 00101010 = 1010001111010"
   ]
  },
  {
   "cell_type": "code",
   "execution_count": 2,
   "metadata": {},
   "outputs": [],
   "source": [
    "def cl_mul(x,y):\n",
    "    '''Bitwise carry-less multiplication on integers'''\n",
    "    z = 0\n",
    "    i = 0\n",
    "    while (y>>i) > 0:\n",
    "        if y & (1<<i):\n",
    "            z ^= x<<i\n",
    "        i += 1\n",
    "    return z"
   ]
  },
  {
   "cell_type": "code",
   "execution_count": 3,
   "metadata": {},
   "outputs": [
    {
     "data": {
      "text/plain": [
       "'0b1010001111010'"
      ]
     },
     "execution_count": 3,
     "metadata": {},
     "output_type": "execute_result"
    }
   ],
   "source": [
    "bin(cl_mul(0b10001001,0b00101010))\n"
   ]
  },
  {
   "cell_type": "markdown",
   "metadata": {},
   "source": [
    "El problema de esta multiplicacion es que toma mas de 8 bits"
   ]
  },
  {
   "cell_type": "markdown",
   "metadata": {},
   "source": [
    "# Definición de un campo finito a partir de un polinomio primitivo\n",
    "\n",
    "\n",
    "Una clase de polinomios llamados \"primitivos\" son usados para definir un campo finito de GF(2^m).\n",
    "\n",
    "Un polinomio es primitivo si:\n",
    "- es irreducible (no puede ser factoreado en polinomios de menor grado) \n",
    "\n",
    "por ejemplo  f(x)=1+x+x^3  define los elementos del campo finito GF(2^3).Por lo tanto hay 2^3=8 elementos\n",
    "\n",
    "encontrando las raices f(x)=0\n",
    "\n",
    "definimos $\\alpha$ como un elemento del campo tal que f($\\alpha$)=0\n",
    "\n",
    "Entonces\n",
    "\n",
    "f($\\alpha$)=1+$\\alpha$+$\\alpha$^3=0\n",
    "\n",
    "\n",
    " $\\alpha$^0=1\n",
    " \n",
    " $\\alpha$^1=$\\alpha$\n",
    " \n",
    " $\\alpha$^2=$\\alpha$^2\n",
    "\n",
    " $\\alpha$^3=1+$\\alpha$  ( la suma y la resta son iguales en modulo 2)\n",
    " \n",
    " $\\alpha$^4=$\\alpha$+$\\alpha^2$\n",
    " \n",
    " $\\alpha$^5=1+$\\alpha$+$\\alpha^2$\n",
    " \n",
    " $\\alpha$^6=1+$\\alpha^2$\n",
    " \n",
    " $\\alpha$^7=$\\alpha$+$\\alpha$^3    Volvio a caer dentro del campo finito\n",
    " \n",
    " los 8 elementos del campo finito GF(8) son {0,$\\alpha$^0,$\\alpha$^1,$\\alpha$^2,$\\alpha$^3,$\\alpha$^4,$\\alpha$^5,$\\alpha$^6}\n",
    " \n",
    " \n",
    " Asi la suma y la multiplicacion quedan definidas como\n",
    " \n",
    " <img src=\"1.jpeg\">\n",
    " \n"
   ]
  },
  {
   "cell_type": "markdown",
   "metadata": {},
   "source": [
    "# Multiplicacion dentro de GF\n",
    "\n",
    "La funcion de multiplicacion no funcionaba bien, ya que el resultado se iba fura del conjunto de elementos del campo. Tambien es necesaria para que la división se comporte bien, que es permanecer en los límites del Campo Galois, pero sin duplicar valores.\n",
    "\n",
    "La multiplicacion de 2 palabras de codigo se hacen multiplicando y luego dividiendo por el polinomio generador"
   ]
  },
  {
   "cell_type": "code",
   "execution_count": 4,
   "metadata": {},
   "outputs": [],
   "source": [
    "def gf_mult_noLUT(x, y, prim=0):\n",
    "    '''Multiplication in Galois Fields without using a precomputed look-up table (and thus it's slower)\n",
    "    by using the standard carry-less multiplication + modular reduction using an irreducible prime polynomial'''\n",
    "\n",
    "    ### Definir operaciones de arrastre bit a bit como funciones internas ###\n",
    "    \n",
    "    def cl_mult(x,y):\n",
    "        \"\"\"Multiplicación sin acarreo bit a bit en enteros\"\"\"\n",
    "        z = 0\n",
    "        i = 0\n",
    "        while (y>>i) > 0:\n",
    "            if y & (1<<i):\n",
    "                z ^= x<<i\n",
    "            i += 1\n",
    "        return z\n",
    "\n",
    "    def bit_length(n):\n",
    "        '''Calcula la posición del bit más significativo (1) de un entero. Equivalente a int.bit_length ()'''\n",
    "        bits = 0\n",
    "        while n >> bits: bits += 1\n",
    "        return bits\n",
    "\n",
    "    def cl_div(dividend, divisor=None):\n",
    "        '' 'División larga sin acarreo bit a bit en enteros y devuelve el resto' ''\n",
    "        # Calcule la posición del bit más significativo para cada entero\n",
    "        dl1 = bit_length(dividend)\n",
    "        dl2 = bit_length(divisor)\n",
    "        # Si el dividendo es menor que el divisor, simplemente salga\n",
    "        if dl1 < dl2:\n",
    "            return dividend\n",
    "       # De lo contrario, alinee el 1 más significativo del divisor con el 1 más significativo del dividendo (cambiando el divisor)\n",
    "        for i in range(dl1-dl2,-1,-1):\n",
    "            # Compruebe que el dividendo sea divisible (inútil para la primera iteración pero importante para las siguientes)\n",
    "            if dividend & (1 << i+dl2-1):\n",
    "                # Si es divisible, cambie el divisor para alinear los bits más significativos y XOR (resta sin acarreo)\n",
    "                dividend ^= divisor << i\n",
    "        return dividend\n",
    "    \n",
    "    ### Rutina principal de multiplicación de GF ###\n",
    "\n",
    "    result = cl_mult(x,y)\n",
    "    # Luego haga una reducción modular (es decir, el resto de la división) con un polinomio primitivo irreducible para que permanezca dentro de los límites de GF\n",
    "    if prim > 0:\n",
    "        result = cl_div(result, prim)\n",
    "\n",
    "    return result"
   ]
  },
  {
   "cell_type": "code",
   "execution_count": 5,
   "metadata": {},
   "outputs": [],
   "source": [
    "a = 0b10001001\n",
    "b = 0b00101010"
   ]
  },
  {
   "cell_type": "code",
   "execution_count": 36,
   "metadata": {},
   "outputs": [
    {
     "name": "stdout",
     "output_type": "stream",
     "text": [
      "0b1010001111010\n",
      "0b1010001111010\n"
     ]
    }
   ],
   "source": [
    "print(bin(gf_mult_noLUT(a, b, 0))) # multiplicacion sin reduccion\n",
    "print(bin(cl_mul(a,b)))"
   ]
  },
  {
   "cell_type": "code",
   "execution_count": 7,
   "metadata": {},
   "outputs": [
    {
     "data": {
      "text/plain": [
       "'0b11000011'"
      ]
     },
     "execution_count": 7,
     "metadata": {},
     "output_type": "execute_result"
    }
   ],
   "source": [
    "bin(gf_mult_noLUT(a, b, 0x11d))"
   ]
  },
  {
   "cell_type": "markdown",
   "metadata": {},
   "source": [
    "# Algoritmo \"Russian Peasant Multiplication\"\n",
    "http://www.cut-the-knot.org/Curriculum/Algebra/PeasantMultiplication.shtml"
   ]
  },
  {
   "cell_type": "code",
   "execution_count": 37,
   "metadata": {},
   "outputs": [],
   "source": [
    "def gf_mult_noLUT(x, y, prim=0, field_charac_full=256, carryless=True):\n",
    "    ''' Multiplicación de enteros de Galois Field utilizando el algoritmo de multiplicación campesina rusa (más rápido que la multiplicación estándar + reducción modular).\n",
    "    Si prim es 0 y carryless = False, entonces la función produce el resultado de una multiplicación de enteros estándar (sin aritmética de carryless ni reducción modular) '''\n",
    "    r = 0\n",
    "    while y: # while y is above 0\n",
    "        if y & 1: r = r ^ x if carryless else r + x # y is odd, then add the corresponding x to r (the sum of all x's corresponding to odd y's will give the final product). Note that since we're in GF(2), the addition is in fact an XOR (very important because in GF(2) the multiplication and additions are carry-less, thus it changes the result!).\n",
    "        y = y >> 1 # equivalent to y // 2\n",
    "        x = x << 1 # equivalent to x*2\n",
    "        if prim > 0 and x & field_charac_full: x = x ^ prim # GF modulo: if x >= 256 then apply modular reduction using the primitive polynomial (we just subtract, but since the primitive number can be above 256 then we directly XOR).\n",
    "\n",
    "    return r"
   ]
  },
  {
   "cell_type": "code",
   "execution_count": 39,
   "metadata": {},
   "outputs": [
    {
     "name": "stdout",
     "output_type": "stream",
     "text": [
      "con polinomio generador  0b11000011\n",
      "sin polinomio generador  0b1010001111010\n"
     ]
    }
   ],
   "source": [
    "print(\"con polinomio generador \",bin(gf_mult_noLUT(a, b, prim=0x11d)))\n",
    "print(\"sin polinomio generador \",bin(gf_mult_noLUT(a, b, prim=0)))"
   ]
  },
  {
   "cell_type": "markdown",
   "metadata": {},
   "source": [
    "# Generacion de tablas\n",
    "\n",
    "El procedimiento descrito anteriormente no es la forma más conveniente de implementar la multiplicación de campos de Galois. Multiplicar dos números toma hasta ocho iteraciones del ciclo de multiplicación, seguidas de hasta ocho iteraciones del ciclo de división. Sin embargo, podemos multiplicar sin bucles utilizando tablas de búsqueda. Una solución sería construir la tabla de multiplicar completa en la memoria, pero eso requeriría una tabla voluminosa de 64k. La solución que se describe a continuación es mucho más compacta.\n",
    "\n",
    "Primero, es particularmente fácil multiplicar por 2 = 00000010  simplemente desplazamiento a la izquierda en un lugar, luego exclusivo, o con el módulo 100011101 (11d) si es necesario."
   ]
  },
  {
   "cell_type": "code",
   "execution_count": 8,
   "metadata": {},
   "outputs": [],
   "source": [
    "gf_exp = [0] * 512 #Lista de elementos # 512. Python 2.6+ puede considerar usar el tipo bytearray\n",
    "gf_log = [0] * 256\n",
    " \n",
    "\n",
    "\n",
    "def init_tables(prim=0x11d):\n",
    "    '''Precompute the logarithm and anti-log tables for faster computation later, using the provided primitive polynomial.'''\n",
    "    # prim is the primitive (binary) polynomial. Since it's a polynomial in the binary sense,\n",
    "    # it's only in fact a single galois field value between 0 and 255, and not a list of gf values.\n",
    "    global gf_exp, gf_log\n",
    "    gf_exp = [0] * 512 # anti-log (exponential) table\n",
    "    gf_log = [0] * 256 # log table\n",
    "    # For each possible value in the galois field 2^8, we will pre-compute the logarithm and anti-logarithm (exponential) of this value\n",
    "    x = 1\n",
    "    for i in range(0, 255):\n",
    "        gf_exp[i] = x # compute anti-log for this value and store it in a table\n",
    "        gf_log[x] = i # compute log at the same time\n",
    "        x = gf_mult_noLUT(x, 2, prim)\n",
    "\n",
    "        # If you use only generator==2 or a power of 2, you can use the following which is faster than gf_mult_noLUT():\n",
    "        #x <<= 1 # multiply by 2 (change 1 by another number y to multiply by a power of 2^y)\n",
    "        #if x & 0x100: # similar to x >= 256, but a lot faster (because 0x100 == 256)\n",
    "            #x ^= prim # substract the primary polynomial to the current value (instead of 255, so that we get a unique set made of coprime numbers), this is the core of the tables generation\n",
    "\n",
    "    # Optimization: double the size of the anti-log table so that we don't need to mod 255 to\n",
    "    # stay inside the bounds (because we will mainly use this table for the multiplication of two GF numbers, no more).\n",
    "    for i in range(255, 512):\n",
    "        gf_exp[i] = gf_exp[i - 255]\n",
    "    return [gf_log, gf_exp]\n"
   ]
  },
  {
   "cell_type": "markdown",
   "metadata": {},
   "source": [
    "Aca las primeras potencias de alfa"
   ]
  },
  {
   "cell_type": "code",
   "execution_count": 52,
   "metadata": {},
   "outputs": [
    {
     "name": "stdout",
     "output_type": "stream",
     "text": [
      "alfa^0= 0b1\n",
      "alfa^1= 0b10\n",
      "alfa^2= 0b100\n",
      "alfa^3= 0b1000\n",
      "alfa^4= 0b10000\n",
      "alfa^5= 0b100000\n",
      "alfa^6= 0b1000000\n",
      "alfa^7= 0b10000000\n",
      "alfa^8= 0b11101\n",
      "alfa^9= 0b111010\n",
      "alfa^10= 0b1110100\n",
      "alfa^11= 0b11101000\n",
      "alfa^12= 0b11001101\n",
      "alfa^13= 0b10000111\n",
      "alfa^14= 0b10011\n"
     ]
    }
   ],
   "source": [
    "init_tables()\n",
    "for i in range (0,15):\n",
    "    print(\"alfa^\"+str(i)+\"= \"+bin(gf_exp[i]))\n"
   ]
  },
  {
   "cell_type": "code",
   "execution_count": 10,
   "metadata": {},
   "outputs": [],
   "source": [
    "def gf_mul(x,y):\n",
    "    if x==0 or y==0:\n",
    "        return 0\n",
    "    return gf_exp[gf_log[x] + gf_log[y]] # should be gf_exp[(gf_log[x]+gf_log[y])%255] if gf_exp wasn't oversized\n"
   ]
  },
  {
   "cell_type": "code",
   "execution_count": 11,
   "metadata": {},
   "outputs": [
    {
     "name": "stdout",
     "output_type": "stream",
     "text": [
      "195\n",
      "en binario  0b11000011\n"
     ]
    }
   ],
   "source": [
    "print((gf_mul(a,b)))\n",
    "print(\"en binario \",bin(gf_mul(a,b)))"
   ]
  },
  {
   "cell_type": "markdown",
   "metadata": {},
   "source": [
    "# División\n",
    "\n",
    "Otro beneficio de implementar una tabla logarítmica es que puede usar las diferencias de potencia para definir divisiones. En el siguiente código, se agrega 255 para garantizar que la diferencia no sea negativa.\n",
    "\n"
   ]
  },
  {
   "cell_type": "code",
   "execution_count": 12,
   "metadata": {},
   "outputs": [],
   "source": [
    "def gf_div(x,y):\n",
    "    if y==0:\n",
    "        raise ZeroDivisionError()\n",
    "    if x==0:\n",
    "        return 0\n",
    "    return gf_exp[(gf_log[x] + 255 - gf_log[y]) % 255]\n"
   ]
  },
  {
   "cell_type": "code",
   "execution_count": 13,
   "metadata": {},
   "outputs": [
    {
     "name": "stdout",
     "output_type": "stream",
     "text": [
      "0b101010\n",
      "0b101010\n"
     ]
    }
   ],
   "source": [
    "print(bin(gf_div(gf_mul(a,b),a)))\n",
    "print(bin(b))"
   ]
  },
  {
   "cell_type": "markdown",
   "metadata": {},
   "source": [
    "# potenciacion e inversa"
   ]
  },
  {
   "cell_type": "code",
   "execution_count": 14,
   "metadata": {},
   "outputs": [],
   "source": [
    "def gf_pow(x, power):\n",
    "    return gf_exp[(gf_log[x] * power) % 255]\n",
    "\n",
    "def gf_inverse(x):\n",
    "    return gf_exp[255 - gf_log[x]] # gf_inverse(x) == gf_div(1, x)"
   ]
  },
  {
   "cell_type": "markdown",
   "metadata": {},
   "source": [
    "# Polinomios\n",
    "\n",
    "Antes de pasar a los códigos Reed-Solomon, necesitamos definir varias operaciones sobre polinomios cuyos coeficientes son elementos de campo de Galois. Ésta es una fuente potencial de confusión, ya que los elementos mismos se describen como polinomios; mi consejo es que no lo pienses demasiado. A la confusión se suma el hecho de que x todavía se usa como marcador de posición. Esta x no tiene nada que ver con la x mencionada anteriormente, así que no las confunda.\n",
    "\n",
    "La notación binaria utilizada anteriormente para los elementos de campo de Galois comienza a volverse incómodamente voluminosa en este punto, por lo que cambiaré a hexadecimal.\n",
    "\n",
    "00000001 x^4 + 00001111 x^3 + 00110110 x^2 + 01111000 x^1 + 01000000= 01 x^4 + 0f x^3 + 36 x^2 + 78 x^1 + 40\n",
    "\n",
    "En Python, los polinomios estarán representados por una lista de números en orden descendente de potencias de x, por lo que el polinomio anterior se convierte en [0x01, 0x0f, 0x36, 0x78, 0x40]. (En su lugar, podría haberse utilizado el orden inverso; ambas opciones tienen sus ventajas y desventajas)."
   ]
  },
  {
   "cell_type": "code",
   "execution_count": 15,
   "metadata": {},
   "outputs": [],
   "source": [
    "### Multiplica polinomio por un escalar\n",
    "\n",
    "def gf_poly_scale(p,x):\n",
    "    r = [0] * len(p)\n",
    "    for i in range(0, len(p)):\n",
    "        r[i] = gf_mul(p[i], x)\n",
    "    return r\n",
    "\n",
    "### suma de 2 polinomios\n",
    "\n",
    "def gf_poly_add(p,q):\n",
    "    r = [0] * max(len(p),len(q))\n",
    "    for i in range(0,len(p)):\n",
    "        r[i+len(r)-len(p)] = p[i]\n",
    "    for i in range(0,len(q)):\n",
    "        r[i+len(r)-len(q)] ^= q[i]\n",
    "    return r\n",
    "\n",
    "### multiplica 2 polinomios\n",
    "\n",
    "def gf_poly_mul(p,q):\n",
    "    '''Multiply two polynomials, inside Galois Field'''\n",
    "    # Pre-allocate the result array\n",
    "    r = [0] * (len(p)+len(q)-1)\n",
    "    # Compute the polynomial multiplication (just like the outer product of two vectors,\n",
    "    # we multiply each coefficients of p with all coefficients of q)\n",
    "    for j in range(0, len(q)):\n",
    "        for i in range(0, len(p)):\n",
    "            r[i+j] ^= gf_mul(p[i], q[j]) # equivalent to: r[i + j] = gf_add(r[i+j], gf_mul(p[i], q[j]))\n",
    "                                                         # -- you can see it's your usual polynomial multiplication\n",
    "    return r\n",
    "\n",
    "### evalua un polinomio en x\n",
    "\n",
    "def gf_poly_eval(poly, x):\n",
    "    '''Evaluates a polynomial in GF(2^p) given the value for x. This is based on Horner's scheme for maximum efficiency.'''\n",
    "    y = poly[0]\n",
    "    for i in range(1, len(poly)):\n",
    "        y = gf_mul(y, x) ^ poly[i]\n",
    "    return y\n"
   ]
  },
  {
   "cell_type": "markdown",
   "metadata": {},
   "source": [
    "# Perspectiva de la teoría de la codificación\n",
    "\n",
    "Pero primero, ¿por qué tuvimos que aprender sobre campos finitos y polinomios? Porque esta es la idea principal de los códigos de corrección de errores como Reed-Solomon: en lugar de ver un mensaje como una serie de números (ASCII), lo vemos como un polinomio que sigue las reglas muy bien definidas de la aritmética de campos finitos. En otras palabras, al representar los datos usando polinomios y aritmética de campos finitos, agregamos una estructura a los datos. Los valores del mensaje siguen siendo los mismos, pero esta estructura conceptual ahora nos permite operar sobre el mensaje, sobre los valores de sus caracteres, utilizando reglas matemáticas bien definidas. Esta estructura, que siempre conocemos porque está fuera e independiente de los datos, es la que nos permite reparar un mensaje corrupto.\n",
    "\n",
    "Por lo tanto, incluso si en la implementación de su código puede optar por no representar explícitamente los polinomios y la aritmética de campo finito, estas nociones son esenciales para que funcionen los códigos de corrección de errores, y encontrará que estas nociones subyacen (aunque implícitamente) a cualquier implementación.\n",
    "\n",
    "¡Y ahora vamos a poner en práctica estas nociones!\n",
    "\n",
    "# Codificación RS\n",
    "\n",
    "Al igual que los códigos BCH, los códigos Reed-Solomon se codifican dividiendo el polinomio que representa el mensaje por un polinomio generador irreducible, y luego el resto es el código RS, que simplemente agregaremos al mensaje original.\n",
    "\n",
    "¿Por qué? Anteriormente dijimos que el principio detrás de los códigos BCH, y la mayoría de los otros códigos de corrección de errores, es usar un diccionario reducido con palabras muy diferentes para maximizar la distancia entre palabras, y que las palabras más largas tienen mayor distancia: aquí es el mismo principio, primero porque alargamos el mensaje original con símbolos adicionales (el resto) lo que aumenta la distancia, y en segundo lugar porque el resto es casi único (gracias al polinomio generador irreducible cuidadosamente diseñado), de modo que puede ser explotado por algoritmos inteligentes para deducir partes de el mensaje original.\n",
    "\n",
    "En resumen, con una analogía aproximada al cifrado: nuestro polinomio generador es nuestro diccionario de codificación, y la división polinomial es el operador para convertir nuestro mensaje usando el diccionario (el polinomio generador) en un código RS.\n",
    "\n",
    "\n",
    "Aquí una función que calcula el polinomio generador para un número dado de símbolos de corrección de errores."
   ]
  },
  {
   "cell_type": "code",
   "execution_count": 16,
   "metadata": {},
   "outputs": [],
   "source": [
    "def rs_generator_poly(nsym):\n",
    "    '''Generate an irreducible generator polynomial (necessary to encode a message into Reed-Solomon)'''\n",
    "    g = [1]\n",
    "    for i in range(0, nsym):\n",
    "        g = gf_poly_mul(g, [1, gf_pow(2, i)])\n",
    "    return g\n"
   ]
  },
  {
   "cell_type": "code",
   "execution_count": 17,
   "metadata": {},
   "outputs": [],
   "source": [
    "def gf_poly_div(dividend, divisor):\n",
    "    '''Fast polynomial division by using Extended Synthetic Division and optimized for GF(2^p) computations\n",
    "    (doesn't work with standard polynomials outside of this galois field, see the Wikipedia article for generic algorithm).'''\n",
    "    # CAUTION: this function expects polynomials to follow the opposite convention at decoding:\n",
    "    # the terms must go from the biggest to lowest degree (while most other functions here expect\n",
    "    # a list from lowest to biggest degree). eg: 1 + 2x + 5x^2 = [5, 2, 1], NOT [1, 2, 5]\n",
    "\n",
    "    msg_out = list(dividend) # Copy the dividend\n",
    "    #normalizer = divisor[0] # precomputing for performance\n",
    "    for i in range(0, len(dividend) - (len(divisor)-1)):\n",
    "        #msg_out[i] /= normalizer # for general polynomial division (when polynomials are non-monic), the usual way of using\n",
    "                                  # synthetic division is to divide the divisor g(x) with its leading coefficient, but not needed here.\n",
    "        coef = msg_out[i] # precaching\n",
    "        if coef != 0: # log(0) is undefined, so we need to avoid that case explicitly (and it's also a good optimization).\n",
    "            for j in range(1, len(divisor)): # in synthetic division, we always skip the first coefficient of the divisior,\n",
    "                                              # because it's only used to normalize the dividend coefficient\n",
    "                if divisor[j] != 0: # log(0) is undefined\n",
    "                    msg_out[i + j] ^= gf_mul(divisor[j], coef) # equivalent to the more mathematically correct\n",
    "                                                               # (but xoring directly is faster): msg_out[i + j] += -divisor[j] * coef\n",
    "\n",
    "    # The resulting msg_out contains both the quotient and the remainder, the remainder being the size of the divisor\n",
    "    # (the remainder has necessarily the same degree as the divisor -- not length but degree == length-1 -- since it's\n",
    "    # what we couldn't divide from the dividend), so we compute the index where this separation is, and return the quotient and remainder.\n",
    "    separator = -(len(divisor)-1)\n",
    "    return msg_out[:separator], msg_out[separator:] # return quotient, remainder."
   ]
  },
  {
   "cell_type": "code",
   "execution_count": 18,
   "metadata": {},
   "outputs": [],
   "source": [
    "def rs_encode_msg(msg_in, nsym):\n",
    "    '''Reed-Solomon main encoding function'''\n",
    "    gen = rs_generator_poly(nsym)\n",
    "\n",
    "    # Pad the message, then divide it by the irreducible generator polynomial\n",
    "    _, remainder = gf_poly_div(msg_in + [0] * (len(gen)-1), gen)\n",
    "    # The remainder is our RS code! Just append it to our original message to get our full codeword (this represents a polynomial of max 256 terms)\n",
    "    msg_out = msg_in + remainder\n",
    "    # Return the codeword\n",
    "    return msg_out"
   ]
  },
  {
   "cell_type": "code",
   "execution_count": 19,
   "metadata": {},
   "outputs": [],
   "source": [
    "def rs_encode_msg(msg_in, nsym):\n",
    "    '''Reed-Solomon main encoding function, using polynomial division (algorithm Extended Synthetic Division)'''\n",
    "    if (len(msg_in) + nsym) > 255: raise ValueError(\"Message is too long (%i when max is 255)\" % (len(msg_in)+nsym))\n",
    "    gen = rs_generator_poly(nsym)\n",
    "    # Init msg_out with the values inside msg_in and pad with len(gen)-1 bytes (which is the number of ecc symbols).\n",
    "    msg_out = [0] * (len(msg_in) + len(gen)-1)\n",
    "    # Initializing the Synthetic Division with the dividend (= input message polynomial)\n",
    "    msg_out[:len(msg_in)] = msg_in\n",
    "\n",
    "    # Synthetic division main loop\n",
    "    for i in range(len(msg_in)):\n",
    "        # Note that it's msg_out here, not msg_in. Thus, we reuse the updated value at each iteration\n",
    "        # (this is how Synthetic Division works: instead of storing in a temporary register the intermediate values,\n",
    "        # we directly commit them to the output).\n",
    "        coef = msg_out[i]\n",
    "\n",
    "        # log(0) is undefined, so we need to manually check for this case. There's no need to check\n",
    "        # the divisor here because we know it can't be 0 since we generated it.\n",
    "        if coef != 0:\n",
    "            # in synthetic division, we always skip the first coefficient of the divisior, because it's only used to normalize the dividend coefficient (which is here useless since the divisor, the generator polynomial, is always monic)\n",
    "            for j in range(1, len(gen)):\n",
    "                msg_out[i+j] ^= gf_mul(gen[j], coef) # equivalent to msg_out[i+j] += gf_mul(gen[j], coef)\n",
    "\n",
    "    # At this point, the Extended Synthetic Divison is done, msg_out contains the quotient in msg_out[:len(msg_in)]\n",
    "    # and the remainder in msg_out[len(msg_in):]. Here for RS encoding, we don't need the quotient but only the remainder\n",
    "    # (which represents the RS code), so we can just overwrite the quotient with the input message, so that we get\n",
    "    # our complete codeword composed of the message + code.\n",
    "    msg_out[:len(msg_in)] = msg_in\n",
    "\n",
    "    return msg_out"
   ]
  },
  {
   "cell_type": "code",
   "execution_count": 20,
   "metadata": {},
   "outputs": [],
   "source": [
    "msg_in = [ 0x40, 0xd2, 0x75, 0x47, 0x76, 0x17, 0x32, 0x06,0x27, 0x26, 0x96, 0xc6, 0xc6, 0x96, 0x70, 0xec ]"
   ]
  },
  {
   "cell_type": "code",
   "execution_count": 21,
   "metadata": {},
   "outputs": [],
   "source": [
    "msg = rs_encode_msg(msg_in, 10)"
   ]
  },
  {
   "cell_type": "code",
   "execution_count": 22,
   "metadata": {},
   "outputs": [
    {
     "name": "stdout",
     "output_type": "stream",
     "text": [
      "0x40 0xd2 0x75 0x47 0x76 0x17 0x32 0x6 0x27 0x26 0x96 0xc6 0xc6 0x96 0x70 0xec 0xbc 0x2a 0x90 0x13 0x6b 0xaf 0xef 0xfd 0x4b 0xe0 "
     ]
    }
   ],
   "source": [
    "for i in range(0,len(msg)):\n",
    "    print(hex(msg[i]), end=' ')"
   ]
  },
  {
   "cell_type": "markdown",
   "metadata": {},
   "source": [
    "# Decodificacion de RS\n",
    "\n",
    "La decodificación Reed-Solomon es el proceso que, a partir de un mensaje potencialmente dañado y un código RS, devuelve un mensaje corregido. En otras palabras, la decodificación es el proceso de reparar su mensaje utilizando el código RS previamente calculado.\n",
    "\n",
    "Aunque solo hay una forma de codificar un mensaje con Reed – Solomon, hay muchas formas diferentes de decodificarlos y, por lo tanto, existen muchos algoritmos de decodificación diferentes.\n",
    "\n",
    "Sin embargo, generalmente podemos resumir el proceso de decodificación en 5 pasos [2] [3]:\n",
    "\n",
    "    1) Calculo del polinomio de síndromes. Esto nos permite analizar qué caracteres tienen errores utilizando Berlekamp-Massey (u otro algoritmo), y también comprobar rápidamente si el mensaje de entrada está dañado.\n",
    "    2) Calculo del polinomio localizador de borrado / error (de los síndromes). Esto lo calcula Berlekamp-Massey, y es un detector que nos dirá exactamente qué personajes están corruptos.\n",
    "    3) Calculo del polinomio evaluador de borrado / error (a partir de los síndromes y el polinomio localizador de borrado / error). Necesario para evaluar cuánto fueron manipulados los caracteres (es decir, ayuda a calcular la magnitud).\n",
    "    4) Calculo del polinomio de magnitud de borrado / error (de los 3 polinomios anteriores): este polinomio también se puede llamar polinomio de corrupción, ya que de hecho almacena exactamente los valores que deben restarse del mensaje recibido para obtener el mensaje original correcto ( es decir, con valores correctos para caracteres borrados). En otras palabras, en este punto, extrajimos el ruido y lo almacenamos en este polinomio, y solo tenemos que eliminar este ruido del mensaje de entrada para repararlo.\n",
    "    5) Repare el mensaje de entrada simplemente restando el polinomio de magnitud del mensaje de entrada.\n",
    "\n",
    "Describiremos cada uno de esos cinco pasos a continuación.\n",
    "\n",
    "Además, los decodificadores también se pueden clasificar por el tipo de error que pueden reparar: borrados (sabemos la ubicación de los caracteres corruptos pero no la magnitud), errores (ignoramos tanto la ubicación como la magnitud), o una combinación de errores. y borrados. Describiremos cómo apoyar todos estos.\n",
    "\n",
    "# calculo del sindrome\n",
    "\n",
    "La decodificación de un mensaje Reed-Solomon implica varios pasos. El primer paso es calcular el \"síndrome\" del mensaje. Trate el mensaje como un polinomio y evalúelo en α0, α1, α2, ..., αn. Dado que estos son los ceros del polinomio generador, el resultado debe ser cero si el mensaje recibido no está dañado (esto se puede usar para verificar si el mensaje está dañado y, después de corregir un mensaje dañado, si el mensaje se reparó por completo). En caso contrario, los síndromes contienen toda la información necesaria para determinar la corrección que se debe realizar. Es sencillo escribir una función para calcular los síndromes."
   ]
  },
  {
   "cell_type": "code",
   "execution_count": 23,
   "metadata": {},
   "outputs": [],
   "source": [
    "def rs_calc_syndromes(msg, nsym):\n",
    "    '''Given the received codeword msg and the number of error correcting symbols (nsym), computes the syndromes polynomial.\n",
    "    Mathematically, it's essentially equivalent to a Fourrier Transform (Chien search being the inverse).\n",
    "    '''\n",
    "    # Note the \"[0] +\" : we add a 0 coefficient for the lowest degree (the constant). This effectively shifts the syndrome, and will shift every computations depending on the syndromes (such as the errors locator polynomial, errors evaluator polynomial, etc. but not the errors positions).\n",
    "    # This is not necessary, you can adapt subsequent computations to start from 0 instead of skipping the first iteration (ie, the often seen range(1, n-k+1)),\n",
    "    synd = [0] * nsym\n",
    "    for i in range(0, nsym):\n",
    "        synd[i] = gf_poly_eval(msg, gf_pow(2,i))\n",
    "    return [0] + synd # pad with one 0 for mathematical precision (else we can end up with weird calculations sometimes)"
   ]
  },
  {
   "cell_type": "code",
   "execution_count": 24,
   "metadata": {},
   "outputs": [
    {
     "name": "stdout",
     "output_type": "stream",
     "text": [
      "[0, 0, 0, 0, 0, 0, 0, 0, 0, 0, 0]\n"
     ]
    }
   ],
   "source": [
    "synd = rs_calc_syndromes(msg, 10)\n",
    "print(synd)"
   ]
  },
  {
   "cell_type": "code",
   "execution_count": 25,
   "metadata": {},
   "outputs": [
    {
     "name": "stdout",
     "output_type": "stream",
     "text": [
      "[0, 64, 192, 93, 231, 52, 92, 228, 49, 83, 245]\n"
     ]
    }
   ],
   "source": [
    "### rompemos un byte\n",
    "\n",
    "msg[0] = 0  # deliberately damage the message\n",
    "synd = rs_calc_syndromes(msg, 10)\n",
    "print(synd)\n",
    "    "
   ]
  },
  {
   "cell_type": "code",
   "execution_count": 26,
   "metadata": {},
   "outputs": [
    {
     "data": {
      "text/plain": [
       "False"
      ]
     },
     "execution_count": 26,
     "metadata": {},
     "output_type": "execute_result"
    }
   ],
   "source": [
    "def rs_check(msg, nsym):\n",
    "    '''Returns true if the message + ecc has no error or false otherwise (may not always catch a wrong decoding or a wrong message, particularly if there are too many errors -- above the Singleton bound --, but it usually does)'''\n",
    "    return ( max(rs_calc_syndromes(msg, nsym)) == 0 )\n",
    "\n",
    "\n",
    "rs_check(msg,10)"
   ]
  },
  {
   "cell_type": "markdown",
   "metadata": {},
   "source": [
    "# Corrección de Errores\n",
    "\n",
    "Es más sencillo corregir errores en el código si ya se conocen las ubicaciones de los errores. Esto se conoce como corrección de borrado. Es posible corregir un símbolo borrado (es decir, un carácter) por cada símbolo de corrección de errores agregado al código. Si no se conocen las ubicaciones de los errores, se necesitan dos símbolos EC para cada error de símbolo (para que pueda corregir dos veces menos errores que borrados).\n",
    "Ahora que ya tenemos los síndromes, necesitamos calcular el polinomio del localizador. Esto es facil:"
   ]
  },
  {
   "cell_type": "code",
   "execution_count": 27,
   "metadata": {},
   "outputs": [],
   "source": [
    "def rs_find_errata_locator(e_pos):\n",
    "    '''Compute the erasures/errors/errata locator polynomial from the erasures/errors/errata positions\n",
    "       (the positions must be relative to the x coefficient, eg: \"hello worldxxxxxxxxx\" is tampered to \"h_ll_ worldxxxxxxxxx\"\n",
    "       with xxxxxxxxx being the ecc of length n-k=9, here the string positions are [1, 4], but the coefficients are reversed\n",
    "       since the ecc characters are placed as the first coefficients of the polynomial, thus the coefficients of the\n",
    "       erased characters are n-1 - [1, 4] = [18, 15] = erasures_loc to be specified as an argument.'''\n",
    "\n",
    "    e_loc = [1] # just to init because we will multiply, so it must be 1 so that the multiplication starts correctly without nulling any term\n",
    "    # erasures_loc = product(1 - x*alpha**i) for i in erasures_pos and where alpha is the alpha chosen to evaluate polynomials.\n",
    "    for i in e_pos:\n",
    "        e_loc = gf_poly_mul( e_loc, gf_poly_add([1], [gf_pow(2, i), 0]) )\n",
    "    return e_loc\n",
    "\n",
    "def rs_find_error_evaluator(synd, err_loc, nsym):\n",
    "    '''Compute the error (or erasures if you supply sigma=erasures locator polynomial, or errata) evaluator polynomial Omega\n",
    "       from the syndrome and the error/erasures/errata locator Sigma.'''\n",
    "\n",
    "    # Omega(x) = [ Synd(x) * Error_loc(x) ] mod x^(n-k+1)\n",
    "    _, remainder = gf_poly_div( gf_poly_mul(synd, err_loc), ([1] + [0]*(nsym+1)) ) # first multiply syndromes * errata_locator, then do a\n",
    "                                                                                   # polynomial division to truncate the polynomial to the\n",
    "                                                                                   # required length\n",
    "\n",
    "    # Faster way that is equivalent\n",
    "    #remainder = gf_poly_mul(synd, err_loc) # first multiply the syndromes with the errata locator polynomial\n",
    "    #remainder = remainder[len(remainder)-(nsym+1):] # then slice the list to truncate it (which represents the polynomial), which\n",
    "                                                                          # is equivalent to dividing by a polynomial of the length we want\n",
    "\n",
    "    return remainder\n"
   ]
  },
  {
   "cell_type": "code",
   "execution_count": 28,
   "metadata": {},
   "outputs": [],
   "source": [
    "def rs_correct_errata(msg_in, synd, err_pos): # err_pos is a list of the positions of the errors/erasures/errata\n",
    "    '''Forney algorithm, computes the values (error magnitude) to correct the input message.'''\n",
    "    # calculate errata locator polynomial to correct both errors and erasures (by combining the errors positions given by the error locator polynomial found by BM with the erasures positions given by caller)\n",
    "    coef_pos = [len(msg_in) - 1 - p for p in err_pos] # need to convert the positions to coefficients degrees for the errata locator algo to work (eg: instead of [0, 1, 2] it will become [len(msg)-1, len(msg)-2, len(msg) -3])\n",
    "    err_loc = rs_find_errata_locator(coef_pos)\n",
    "    # calculate errata evaluator polynomial (often called Omega or Gamma in academic papers)\n",
    "    err_eval = rs_find_error_evaluator(synd[::-1], err_loc, len(err_loc)-1)[::-1]\n",
    "\n",
    "    # Second part of Chien search to get the error location polynomial X from the error positions in err_pos (the roots of the error locator polynomial, ie, where it evaluates to 0)\n",
    "    X = [] # will store the position of the errors\n",
    "    for i in range(0, len(coef_pos)):\n",
    "        l = 255 - coef_pos[i]\n",
    "        X.append( gf_pow(2, -l) )\n",
    "\n",
    "    # Forney algorithm: compute the magnitudes\n",
    "    E = [0] * (len(msg_in)) # will store the values that need to be corrected (substracted) to the message containing errors. This is sometimes called the error magnitude polynomial.\n",
    "    Xlength = len(X)\n",
    "    for i, Xi in enumerate(X):\n",
    "\n",
    "        Xi_inv = gf_inverse(Xi)\n",
    "\n",
    "        # Compute the formal derivative of the error locator polynomial (see Blahut, Algebraic codes for data transmission, pp 196-197).\n",
    "        # the formal derivative of the errata locator is used as the denominator of the Forney Algorithm, which simply says that the ith error value is given by error_evaluator(gf_inverse(Xi)) / error_locator_derivative(gf_inverse(Xi)). See Blahut, Algebraic codes for data transmission, pp 196-197.\n",
    "        err_loc_prime_tmp = []\n",
    "        for j in range(0, Xlength):\n",
    "            if j != i:\n",
    "                err_loc_prime_tmp.append( gf_sub(1, gf_mul(Xi_inv, X[j])) )\n",
    "        # compute the product, which is the denominator of the Forney algorithm (errata locator derivative)\n",
    "        err_loc_prime = 1\n",
    "        for coef in err_loc_prime_tmp:\n",
    "            err_loc_prime = gf_mul(err_loc_prime, coef)\n",
    "        # equivalent to: err_loc_prime = functools.reduce(gf_mul, err_loc_prime_tmp, 1)\n",
    "\n",
    "        # Compute y (evaluation of the errata evaluator polynomial)\n",
    "        # This is a more faithful translation of the theoretical equation contrary to the old forney method. Here it is an exact reproduction:\n",
    "        # Yl = omega(Xl.inverse()) / prod(1 - Xj*Xl.inverse()) for j in len(X)\n",
    "        y = gf_poly_eval(err_eval[::-1], Xi_inv) # numerator of the Forney algorithm (errata evaluator evaluated)\n",
    "        y = gf_mul(gf_pow(Xi, 1), y)\n",
    "        \n",
    "        # Check: err_loc_prime (the divisor) should not be zero.\n",
    "        if err_loc_prime == 0:\n",
    "            raise ReedSolomonError(\"Could not find error magnitude\")    # Could not find error magnitude\n",
    "\n",
    "        # Compute the magnitude\n",
    "        magnitude = gf_div(y, err_loc_prime) # magnitude value of the error, calculated by the Forney algorithm (an equation in fact): dividing the errata evaluator with the errata locator derivative gives us the errata magnitude (ie, value to repair) the ith symbol\n",
    "        E[err_pos[i]] = magnitude # store the magnitude for this error into the magnitude polynomial\n",
    "\n",
    "    # Apply the correction of values to get our message corrected! (note that the ecc bytes also gets corrected!)\n",
    "    # (this isn't the Forney algorithm, we just apply the result of decoding here)\n",
    "    msg_in = gf_poly_add(msg_in, E) # equivalent to Ci = Ri - Ei where Ci is the correct message, Ri the received (senseword) message, and Ei the errata magnitudes (minus is replaced by XOR since it's equivalent in GF(2^p)). So in fact here we substract from the received message the errors magnitude, which logically corrects the value to what it should be.\n",
    "    return msg_in\n"
   ]
  },
  {
   "cell_type": "code",
   "execution_count": 29,
   "metadata": {},
   "outputs": [
    {
     "name": "stdout",
     "output_type": "stream",
     "text": [
      "0x40\n"
     ]
    }
   ],
   "source": [
    "msg[0] = 0\n",
    "synd = rs_calc_syndromes(msg, 10)\n",
    "msg = rs_correct_errata(msg, synd, [0]) # [0] is the list of the erasures locations, here it's the first character, at position 0\n",
    "print(hex(msg[0]))"
   ]
  },
  {
   "cell_type": "markdown",
   "metadata": {},
   "source": [
    "# Corrección de errores\n",
    "\n",
    "En la situación más probable en la que se desconocen las ubicaciones de los errores (lo que generalmente llamamos errores, en oposición a los borrados donde se conocen las ubicaciones), usaremos los mismos pasos que para los borrados, pero ahora necesitamos pasos adicionales para encontrar la ubicación. El algoritmo de Berlekamp-Massey se utiliza para calcular el polinomio del localizador de errores, que podemos utilizar más adelante para determinar la ubicación de los errores:"
   ]
  },
  {
   "cell_type": "code",
   "execution_count": 30,
   "metadata": {},
   "outputs": [],
   "source": [
    "def rs_find_error_locator(synd, nsym, erase_loc=None, erase_count=0):\n",
    "    '''Find error/errata locator and evaluator polynomials with Berlekamp-Massey algorithm'''\n",
    "    # The idea is that BM will iteratively estimate the error locator polynomial.\n",
    "    # To do this, it will compute a Discrepancy term called Delta, which will tell us if the error locator polynomial needs an update or not\n",
    "    # (hence why it's called discrepancy: it tells us when we are getting off board from the correct value).\n",
    "\n",
    "    # Init the polynomials\n",
    "    if erase_loc: # if the erasure locator polynomial is supplied, we init with its value, so that we include erasures in the final locator polynomial\n",
    "        err_loc = list(erase_loc)\n",
    "        old_loc = list(erase_loc)\n",
    "    else:\n",
    "        err_loc = [1] # This is the main variable we want to fill, also called Sigma in other notations or more formally the errors/errata locator polynomial.\n",
    "        old_loc = [1] # BM is an iterative algorithm, and we need the errata locator polynomial of the previous iteration in order to update other necessary variables.\n",
    "    #L = 0 # update flag variable, not needed here because we use an alternative equivalent way of checking if update is needed (but using the flag could potentially be faster depending on if using length(list) is taking linear time in your language, here in Python it's constant so it's as fast.\n",
    "\n",
    "    # Fix the syndrome shifting: when computing the syndrome, some implementations may prepend a 0 coefficient for the lowest degree term (the constant). This is a case of syndrome shifting, thus the syndrome will be bigger than the number of ecc symbols (I don't know what purpose serves this shifting). If that's the case, then we need to account for the syndrome shifting when we use the syndrome such as inside BM, by skipping those prepended coefficients.\n",
    "    # Another way to detect the shifting is to detect the 0 coefficients: by definition, a syndrome does not contain any 0 coefficient (except if there are no errors/erasures, in this case they are all 0). This however doesn't work with the modified Forney syndrome, which set to 0 the coefficients corresponding to erasures, leaving only the coefficients corresponding to errors.\n",
    "    synd_shift = len(synd) - nsym\n",
    "\n",
    "    for i in range(0, nsym-erase_count): # generally: nsym-erase_count == len(synd), except when you input a partial erase_loc and using the full syndrome instead of the Forney syndrome, in which case nsym-erase_count is more correct (len(synd) will fail badly with IndexError).\n",
    "        if erase_loc: # if an erasures locator polynomial was provided to init the errors locator polynomial, then we must skip the FIRST erase_count iterations (not the last iterations, this is very important!)\n",
    "            K = erase_count+i+synd_shift\n",
    "        else: # if erasures locator is not provided, then either there's no erasures to account or we use the Forney syndromes, so we don't need to use erase_count nor erase_loc (the erasures have been trimmed out of the Forney syndromes).\n",
    "            K = i+synd_shift\n",
    "\n",
    "        # Compute the discrepancy Delta\n",
    "        # Here is the close-to-the-books operation to compute the discrepancy Delta: it's a simple polynomial multiplication of error locator with the syndromes, and then we get the Kth element.\n",
    "        #delta = gf_poly_mul(err_loc[::-1], synd)[K] # theoretically it should be gf_poly_add(synd[::-1], [1])[::-1] instead of just synd, but it seems it's not absolutely necessary to correctly decode.\n",
    "        # But this can be optimized: since we only need the Kth element, we don't need to compute the polynomial multiplication for any other element but the Kth. Thus to optimize, we compute the polymul only at the item we need, skipping the rest (avoiding a nested loop, thus we are linear time instead of quadratic).\n",
    "        # This optimization is actually described in several figures of the book \"Algebraic codes for data transmission\", Blahut, Richard E., 2003, Cambridge university press.\n",
    "        delta = synd[K]\n",
    "        for j in range(1, len(err_loc)):\n",
    "            delta ^= gf_mul(err_loc[-(j+1)], synd[K - j]) # delta is also called discrepancy. Here we do a partial polynomial multiplication (ie, we compute the polynomial multiplication only for the term of degree K). Should be equivalent to brownanrs.polynomial.mul_at().\n",
    "        #print \"delta\", K, delta, list(gf_poly_mul(err_loc[::-1], synd)) # debugline\n",
    "\n",
    "        # Shift polynomials to compute the next degree\n",
    "        old_loc = old_loc + [0]\n",
    "\n",
    "        # Iteratively estimate the errata locator and evaluator polynomials\n",
    "        if delta != 0: # Update only if there's a discrepancy\n",
    "            if len(old_loc) > len(err_loc): # Rule B (rule A is implicitly defined because rule A just says that we skip any modification for this iteration)\n",
    "            #if 2*L <= K+erase_count: # equivalent to len(old_loc) > len(err_loc), as long as L is correctly computed\n",
    "                # Computing errata locator polynomial Sigma\n",
    "                new_loc = gf_poly_scale(old_loc, delta)\n",
    "                old_loc = gf_poly_scale(err_loc, gf_inverse(delta)) # effectively we are doing err_loc * 1/delta = err_loc // delta\n",
    "                err_loc = new_loc\n",
    "                # Update the update flag\n",
    "                #L = K - L # the update flag L is tricky: in Blahut's schema, it's mandatory to use `L = K - L - erase_count` (and indeed in a previous draft of this function, if you forgot to do `- erase_count` it would lead to correcting only 2*(errors+erasures) <= (n-k) instead of 2*errors+erasures <= (n-k)), but in this latest draft, this will lead to a wrong decoding in some cases where it should correctly decode! Thus you should try with and without `- erase_count` to update L on your own implementation and see which one works OK without producing wrong decoding failures.\n",
    "\n",
    "            # Update with the discrepancy\n",
    "            err_loc = gf_poly_add(err_loc, gf_poly_scale(old_loc, delta))\n",
    "\n",
    "    # Check if the result is correct, that there's not too many errors to correct\n",
    "    while len(err_loc) and err_loc[0] == 0: del err_loc[0] # drop leading 0s, else errs will not be of the correct size\n",
    "    errs = len(err_loc) - 1\n",
    "    if (errs-erase_count) * 2 + erase_count > nsym:\n",
    "        raise ReedSolomonError(\"Too many errors to correct\")    # too many errors to correct\n",
    "\n",
    "    return err_loc"
   ]
  },
  {
   "cell_type": "markdown",
   "metadata": {},
   "source": [
    "Luego, usando el polinomio del localizador de errores, simplemente usamos un enfoque de fuerza bruta llamado sustitución de prueba para encontrar los ceros de este polinomio, que identifica las ubicaciones del error (es decir, el índice de los caracteres que deben corregirse). Existe un algoritmo más eficiente llamado búsqueda de Chien, que evita volver a calcular toda la evaluación en cada paso de la iteración, pero este algoritmo se deja como ejercicio para el lector."
   ]
  },
  {
   "cell_type": "code",
   "execution_count": 31,
   "metadata": {},
   "outputs": [],
   "source": [
    "def rs_find_errors(err_loc, nmess): # nmess is len(msg_in)\n",
    "    '''Find the roots (ie, where evaluation = zero) of error polynomial by brute-force trial, this is a sort of Chien's search\n",
    "    (but less efficient, Chien's search is a way to evaluate the polynomial such that each evaluation only takes constant time).'''\n",
    "    errs = len(err_loc) - 1\n",
    "    err_pos = []\n",
    "    for i in range(nmess): # normally we should try all 2^8 possible values, but here we optimize to just check the interesting symbols\n",
    "        if gf_poly_eval(err_loc, gf_pow(2, i)) == 0: # It's a 0? Bingo, it's a root of the error locator polynomial,\n",
    "                                                                                   # in other terms this is the location of an error\n",
    "            err_pos.append(nmess - 1 - i)\n",
    "    # Sanity check: the number of errors/errata positions found should be exactly the same as the length of the errata locator polynomial\n",
    "    if len(err_pos) != errs:\n",
    "        # couldn't find error locations\n",
    "        raise ReedSolomonError(\"Too many (or few) errors found by Chien Search for the errata locator polynomial!\")\n",
    "    return err_pos"
   ]
  },
  {
   "cell_type": "code",
   "execution_count": 32,
   "metadata": {},
   "outputs": [
    {
     "name": "stdout",
     "output_type": "stream",
     "text": [
      "originales  ('0x40', '0x96', '0xec', '0x6b')\n",
      "rotos  ('0x6', '0x7', '0x5', '0x8')\n",
      "posiciones de error [20, 15, 10, 0]\n",
      "corregido ('0x40', '0x96', '0xec', '0x6b')\n"
     ]
    }
   ],
   "source": [
    "msg = rs_encode_msg(msg_in, 10)\n",
    "\n",
    "print(\"originales \",(hex(msg[0]),hex(msg[10]),hex(msg[15]),hex(msg[20])))\n",
    "\n",
    "### errores\n",
    "msg[0] = 6\n",
    "msg[10] = 7\n",
    "msg[15] = 5\n",
    "msg[20] = 8\n",
    "\n",
    "print(\"rotos \",(hex(msg[0]),hex(msg[10]),hex(msg[15]),hex(msg[20])))\n",
    "\n",
    "\n",
    "synd = rs_calc_syndromes(msg, 10)\n",
    "err_loc = rs_find_error_locator(synd, 10)\n",
    "pos = rs_find_errors(err_loc[::-1], len(msg)) # find the errors locations\n",
    "print(\"posiciones de error\", pos)\n",
    "\n",
    "msg = rs_correct_errata(msg, synd, pos)\n",
    "print(\"corregido\",(hex(msg[0]),hex(msg[10]),hex(msg[15]),hex(msg[20])))\n"
   ]
  },
  {
   "cell_type": "markdown",
   "metadata": {},
   "source": [
    "Es posible que un decodificador Reed-Solomon decodifique tanto borrados como errores al mismo tiempo, hasta un límite (llamado Singleton Bound) de 2 * e + v <= (nk), donde e es el número de errores, v el número de borrados y (nk) el número de caracteres del código RS (llamado nsym en el código). Básicamente, significa que para cada borrado, solo necesita un carácter de código RS para repararlo, mientras que para cada error necesita dos caracteres de código RS (porque necesita encontrar la posición además del valor / magnitud para corregir). \n",
    "\n",
    "Para corregir tanto los errores como los borrados, debemos evitar que los borrados interfieran con el proceso de ubicación del error. Esto se puede hacer calculando los síndromes de Forney, de la siguiente manera."
   ]
  },
  {
   "cell_type": "code",
   "execution_count": 33,
   "metadata": {},
   "outputs": [],
   "source": [
    "def rs_forney_syndromes(synd, pos, nmess):\n",
    "    # Compute Forney syndromes, which computes a modified syndromes to compute only errors (erasures are trimmed out). Do not confuse this with Forney algorithm, which allows to correct the message based on the location of errors.\n",
    "    erase_pos_reversed = [nmess-1-p for p in pos] # prepare the coefficient degree positions (instead of the erasures positions)\n",
    "\n",
    "    # Optimized method, all operations are inlined\n",
    "    fsynd = list(synd[1:])      # make a copy and trim the first coefficient which is always 0 by definition\n",
    "    for i in range(0, len(pos)):\n",
    "        x = gf_pow(2, erase_pos_reversed[i])\n",
    "        for j in range(0, len(fsynd) - 1):\n",
    "            fsynd[j] = gf_mul(fsynd[j], x) ^ fsynd[j + 1]\n",
    "\n",
    "    # Equivalent, theoretical way of computing the modified Forney syndromes: fsynd = (erase_loc * synd) % x^(n-k)\n",
    "    # See Shao, H. M., Truong, T. K., Deutsch, L. J., & Reed, I. S. (1986, April). A single chip VLSI Reed-Solomon decoder. In Acoustics, Speech, and Signal Processing, IEEE International Conference on ICASSP'86. (Vol. 11, pp. 2151-2154). IEEE.ISO 690\n",
    "    #erase_loc = rs_find_errata_locator(erase_pos_reversed, generator=generator) # computing the erasures locator polynomial\n",
    "    #fsynd = gf_poly_mul(erase_loc[::-1], synd[1:]) # then multiply with the syndrome to get the untrimmed forney syndrome\n",
    "    #fsynd = fsynd[len(pos):] # then trim the first erase_pos coefficients which are useless. Seems to be not necessary, but this reduces the computation time later in BM (thus it's an optimization).\n",
    "\n",
    "    return fsynd"
   ]
  },
  {
   "cell_type": "code",
   "execution_count": 34,
   "metadata": {},
   "outputs": [],
   "source": [
    "def rs_correct_msg(msg_in, nsym, erase_pos=None):\n",
    "    '''Reed-Solomon main decoding function'''\n",
    "    if len(msg_in) > 255: # can't decode, message is too big\n",
    "        raise ValueError(\"Message is too long (%i when max is 255)\" % len(msg_in))\n",
    "\n",
    "    msg_out = list(msg_in)     # copy of message\n",
    "    # erasures: set them to null bytes for easier decoding (but this is not necessary, they will be corrected anyway, but debugging will be easier with null bytes because the error locator polynomial values will only depend on the errors locations, not their values)\n",
    "    if erase_pos is None:\n",
    "        erase_pos = []\n",
    "    else:\n",
    "        for e_pos in erase_pos:\n",
    "            msg_out[e_pos] = 0\n",
    "    # check if there are too many erasures to correct (beyond the Singleton bound)\n",
    "    if len(erase_pos) > nsym: raise ReedSolomonError(\"Too many erasures to correct\")\n",
    "    # prepare the syndrome polynomial using only errors (ie: errors = characters that were either replaced by null byte\n",
    "    # or changed to another character, but we don't know their positions)\n",
    "    synd = rs_calc_syndromes(msg_out, nsym)\n",
    "    # check if there's any error/erasure in the input codeword. If not (all syndromes coefficients are 0), then just return the message as-is.\n",
    "    if max(synd) == 0:\n",
    "        return msg_out[:-nsym], msg_out[-nsym:]  # no errors\n",
    "\n",
    "    # compute the Forney syndromes, which hide the erasures from the original syndrome (so that BM will just have to deal with errors, not erasures)\n",
    "    fsynd = rs_forney_syndromes(synd, erase_pos, len(msg_out))\n",
    "    # compute the error locator polynomial using Berlekamp-Massey\n",
    "    err_loc = rs_find_error_locator(fsynd, nsym, erase_count=len(erase_pos))\n",
    "    # locate the message errors using Chien search (or brute-force search)\n",
    "    err_pos = rs_find_errors(err_loc[::-1] , len(msg_out))\n",
    "    if err_pos is None:\n",
    "        raise ReedSolomonError(\"Could not locate error\")    # error location failed\n",
    "\n",
    "    # Find errors values and apply them to correct the message\n",
    "    # compute errata evaluator and errata magnitude polynomials, then correct errors and erasures\n",
    "    msg_out = rs_correct_errata(msg_out, synd, (erase_pos + err_pos)) # note that we here use the original syndrome, not the forney syndrome\n",
    "                                                                                                                                  # (because we will correct both errors and erasures, so we need the full syndrome)\n",
    "    # check if the final message is fully repaired\n",
    "    synd = rs_calc_syndromes(msg_out, nsym)\n",
    "    if max(synd) > 0:\n",
    "        raise ReedSolomonError(\"Could not correct message\")     # message could not be repaired\n",
    "    # return the successfully decoded message\n",
    "    return msg_out[:-nsym], msg_out[-nsym:] # also return the corrected ecc block so that the user can check()"
   ]
  },
  {
   "cell_type": "markdown",
   "metadata": {},
   "source": [
    "# El ejemplo funcionando"
   ]
  },
  {
   "cell_type": "code",
   "execution_count": 35,
   "metadata": {},
   "outputs": [
    {
     "name": "stdout",
     "output_type": "stream",
     "text": [
      "Original: [104, 101, 108, 108, 111, 32, 119, 111, 114, 108, 100, 145, 124, 96, 105, 94, 31, 179, 149, 163]\n",
      "Corrupted: [0, 2, 2, 2, 2, 2, 119, 111, 114, 108, 100, 145, 124, 96, 105, 94, 31, 179, 149, 163]\n",
      "Repaired: [104, 101, 108, 108, 111, 32, 119, 111, 114, 108, 100, 145, 124, 96, 105, 94, 31, 179, 149, 163]\n",
      "hello world\n"
     ]
    }
   ],
   "source": [
    "# Configuration of the parameters and input message\n",
    "prim = 0x11d\n",
    "n = 20 # set the size you want, it must be > k, the remaining n-k symbols will be the ECC code (more is better)\n",
    "k = 11 # k = len(message)\n",
    "message = \"hello world\" # input message\n",
    "\n",
    "# Initializing the log/antilog tables\n",
    "init_tables(prim)\n",
    "\n",
    "# Encoding the input message\n",
    "mesecc = rs_encode_msg([ord(x) for x in message], n-k)\n",
    "print(\"Original: %s\" % mesecc)\n",
    "\n",
    "# Tampering 6 characters of the message (over 9 ecc symbols, so we are above the Singleton Bound)\n",
    "mesecc[0] = 0\n",
    "mesecc[1] = 2\n",
    "mesecc[2] = 2\n",
    "mesecc[3] = 2\n",
    "mesecc[4] = 2\n",
    "mesecc[5] = 2\n",
    "print(\"Corrupted: %s\" % mesecc)\n",
    "\n",
    "# Decoding/repairing the corrupted message, by providing the locations of a few erasures, we get below the Singleton Bound\n",
    "# Remember that the Singleton Bound is: 2*e+v <= (n-k)\n",
    "corrected_message, corrected_ecc = rs_correct_msg(mesecc, n-k, erase_pos=[0, 1, 2])\n",
    "print(\"Repaired: %s\" % (corrected_message+corrected_ecc))\n",
    "print(''.join([chr(x) for x in corrected_message]))"
   ]
  },
  {
   "cell_type": "markdown",
   "metadata": {},
   "source": [
    "En este notebook se han presentado los principios básicos de los códigos Reed-Solomon. El código que se presenta aquí es bastante genérico y se puede usar para cualquier propósito. Son posibles muchas variaciones y refinamientos de estas ideas, ya que la teoría de la codificación es un campo de estudio muy rico.\n",
    "\n"
   ]
  },
  {
   "cell_type": "code",
   "execution_count": null,
   "metadata": {},
   "outputs": [],
   "source": []
  }
 ],
 "metadata": {
  "kernelspec": {
   "display_name": "Python 3",
   "language": "python",
   "name": "python3"
  },
  "language_info": {
   "codemirror_mode": {
    "name": "ipython",
    "version": 3
   },
   "file_extension": ".py",
   "mimetype": "text/x-python",
   "name": "python",
   "nbconvert_exporter": "python",
   "pygments_lexer": "ipython3",
   "version": "3.7.4"
  }
 },
 "nbformat": 4,
 "nbformat_minor": 2
}
